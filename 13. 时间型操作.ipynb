{
 "cells": [
  {
   "cell_type": "markdown",
   "id": "c75c5bc0-1287-4653-9e7b-55aa3713024d",
   "metadata": {},
   "source": [
    "# 介绍时间列的相关操作\n",
    "\n",
    "时间列是做数据分析主要遇到的核心类型之一。"
   ]
  },
  {
   "cell_type": "code",
   "execution_count": 1,
   "id": "71c843dc-c182-4ca3-b9f9-604aacc3f805",
   "metadata": {},
   "outputs": [],
   "source": [
    "__auther__ = 'zhenhang.sun@gmail.com'"
   ]
  },
  {
   "cell_type": "code",
   "execution_count": 2,
   "id": "cf0eeae7-c7d6-4deb-84d6-924202aab027",
   "metadata": {},
   "outputs": [
    {
     "data": {
      "text/plain": [
       "'D:\\\\github\\\\pandas-tutorial'"
      ]
     },
     "execution_count": 2,
     "metadata": {},
     "output_type": "execute_result"
    }
   ],
   "source": [
    "pwd"
   ]
  },
  {
   "cell_type": "code",
   "execution_count": 3,
   "id": "5160b1d0-99bc-42f4-9ed8-55fcc163d8e5",
   "metadata": {},
   "outputs": [],
   "source": [
    "import time"
   ]
  },
  {
   "cell_type": "code",
   "execution_count": 4,
   "id": "a27f4d64-3498-4151-9ae6-eb34991dc3cd",
   "metadata": {},
   "outputs": [],
   "source": [
    "import pandas as pd"
   ]
  },
  {
   "cell_type": "code",
   "execution_count": null,
   "id": "8e546e16-895f-4e28-ae1e-36a5e184c5ca",
   "metadata": {},
   "outputs": [],
   "source": []
  },
  {
   "cell_type": "markdown",
   "id": "95d13dc6-4a30-4f37-aec1-4191654a8a0a",
   "metadata": {
    "tags": []
   },
   "source": [
    "# 1. datetime 类型\n",
    "\n",
    "datetime是pandas中操作时间序列的核心数据类型"
   ]
  },
  {
   "cell_type": "markdown",
   "id": "96f90ecd-3255-46c9-8e4b-1f98086eda98",
   "metadata": {},
   "source": [
    "## 1.1 创建 datetime\n",
    "#### `pandas.to_datetime(arg, errors='raise', dayfirst=False, yearfirst=False, utc=None, format=None, exact=True, unit=None, infer_datetime_format=False, origin='unix', cache=True)`\n",
    "\n",
    "常用如下参数：\n",
    "- arg 一般为需要作为datetime处理的列，原始类型可以是字符串或 int型的时间戳（s或ms）\n",
    "- format 如果arg是字符串，用这个参数来说明时间的样式\n",
    "- unit 如果arg是int型，用这个参数来说明是s还是ms\n",
    "- utc 是否utc，也即是否是0时区，如果是可以设置为True，否则不用设置，我们一般在东八区"
   ]
  },
  {
   "cell_type": "code",
   "execution_count": 5,
   "id": "b71e160d-9cd8-4fd3-8f93-851a9eaeb7be",
   "metadata": {},
   "outputs": [
    {
     "data": {
      "text/html": [
       "<div>\n",
       "<style scoped>\n",
       "    .dataframe tbody tr th:only-of-type {\n",
       "        vertical-align: middle;\n",
       "    }\n",
       "\n",
       "    .dataframe tbody tr th {\n",
       "        vertical-align: top;\n",
       "    }\n",
       "\n",
       "    .dataframe thead th {\n",
       "        text-align: right;\n",
       "    }\n",
       "</style>\n",
       "<table border=\"1\" class=\"dataframe\">\n",
       "  <thead>\n",
       "    <tr style=\"text-align: right;\">\n",
       "      <th></th>\n",
       "      <th>str_time</th>\n",
       "      <th>str_time2</th>\n",
       "      <th>s_time</th>\n",
       "      <th>ms_time</th>\n",
       "    </tr>\n",
       "  </thead>\n",
       "  <tbody>\n",
       "    <tr>\n",
       "      <th>0</th>\n",
       "      <td>2020-01-01 12:03:05</td>\n",
       "      <td>20220112 12:03:05</td>\n",
       "      <td>1642244343</td>\n",
       "      <td>1642244343000</td>\n",
       "    </tr>\n",
       "    <tr>\n",
       "      <th>1</th>\n",
       "      <td>2022-01-10 12:34:07</td>\n",
       "      <td>20220112 12:04:07</td>\n",
       "      <td>1642244443</td>\n",
       "      <td>1642244443000</td>\n",
       "    </tr>\n",
       "    <tr>\n",
       "      <th>2</th>\n",
       "      <td>2022-01-31 12:05:09</td>\n",
       "      <td>20220112 12:05:09</td>\n",
       "      <td>1642244543</td>\n",
       "      <td>164224454300</td>\n",
       "    </tr>\n",
       "  </tbody>\n",
       "</table>\n",
       "</div>"
      ],
      "text/plain": [
       "              str_time          str_time2      s_time        ms_time\n",
       "0  2020-01-01 12:03:05  20220112 12:03:05  1642244343  1642244343000\n",
       "1  2022-01-10 12:34:07  20220112 12:04:07  1642244443  1642244443000\n",
       "2  2022-01-31 12:05:09  20220112 12:05:09  1642244543   164224454300"
      ]
     },
     "execution_count": 5,
     "metadata": {},
     "output_type": "execute_result"
    }
   ],
   "source": [
    "df = pd.DataFrame({'str_time':['2020-01-01 12:03:05','2022-01-10 12:34:07','2022-01-31 12:05:09'],\n",
    "                   'str_time2':['20220112 12:03:05','20220112 12:04:07','20220112 12:05:09'],\n",
    "                   's_time': [int(time.time()), int(time.time()+100), int(time.time()+200)],\n",
    "                   'ms_time': [1000*int(time.time()), 1000*int(time.time()+100), 100*int(time.time()+200)],\n",
    "                  })\n",
    "df"
   ]
  },
  {
   "cell_type": "code",
   "execution_count": 6,
   "id": "add206f7-90be-4c71-8ede-deb80b875a1d",
   "metadata": {},
   "outputs": [
    {
     "data": {
      "text/html": [
       "<div>\n",
       "<style scoped>\n",
       "    .dataframe tbody tr th:only-of-type {\n",
       "        vertical-align: middle;\n",
       "    }\n",
       "\n",
       "    .dataframe tbody tr th {\n",
       "        vertical-align: top;\n",
       "    }\n",
       "\n",
       "    .dataframe thead th {\n",
       "        text-align: right;\n",
       "    }\n",
       "</style>\n",
       "<table border=\"1\" class=\"dataframe\">\n",
       "  <thead>\n",
       "    <tr style=\"text-align: right;\">\n",
       "      <th></th>\n",
       "      <th>str_time</th>\n",
       "      <th>str_time2</th>\n",
       "      <th>s_time</th>\n",
       "      <th>ms_time</th>\n",
       "      <th>utctime1</th>\n",
       "    </tr>\n",
       "  </thead>\n",
       "  <tbody>\n",
       "    <tr>\n",
       "      <th>0</th>\n",
       "      <td>2020-01-01 12:03:05</td>\n",
       "      <td>20220112 12:03:05</td>\n",
       "      <td>1642244343</td>\n",
       "      <td>1642244343000</td>\n",
       "      <td>2020-01-01 12:03:05</td>\n",
       "    </tr>\n",
       "    <tr>\n",
       "      <th>1</th>\n",
       "      <td>2022-01-10 12:34:07</td>\n",
       "      <td>20220112 12:04:07</td>\n",
       "      <td>1642244443</td>\n",
       "      <td>1642244443000</td>\n",
       "      <td>2022-01-10 12:34:07</td>\n",
       "    </tr>\n",
       "    <tr>\n",
       "      <th>2</th>\n",
       "      <td>2022-01-31 12:05:09</td>\n",
       "      <td>20220112 12:05:09</td>\n",
       "      <td>1642244543</td>\n",
       "      <td>164224454300</td>\n",
       "      <td>2022-01-31 12:05:09</td>\n",
       "    </tr>\n",
       "  </tbody>\n",
       "</table>\n",
       "</div>"
      ],
      "text/plain": [
       "              str_time          str_time2      s_time        ms_time  \\\n",
       "0  2020-01-01 12:03:05  20220112 12:03:05  1642244343  1642244343000   \n",
       "1  2022-01-10 12:34:07  20220112 12:04:07  1642244443  1642244443000   \n",
       "2  2022-01-31 12:05:09  20220112 12:05:09  1642244543   164224454300   \n",
       "\n",
       "             utctime1  \n",
       "0 2020-01-01 12:03:05  \n",
       "1 2022-01-10 12:34:07  \n",
       "2 2022-01-31 12:05:09  "
      ]
     },
     "execution_count": 6,
     "metadata": {},
     "output_type": "execute_result"
    }
   ],
   "source": [
    "# 字符串默认时间格式\n",
    "df['utctime1'] = pd.to_datetime(df['str_time'])\n",
    "df"
   ]
  },
  {
   "cell_type": "code",
   "execution_count": 7,
   "id": "7b44e125-eb8e-4b4a-9bfb-21217794ed64",
   "metadata": {},
   "outputs": [
    {
     "data": {
      "text/html": [
       "<div>\n",
       "<style scoped>\n",
       "    .dataframe tbody tr th:only-of-type {\n",
       "        vertical-align: middle;\n",
       "    }\n",
       "\n",
       "    .dataframe tbody tr th {\n",
       "        vertical-align: top;\n",
       "    }\n",
       "\n",
       "    .dataframe thead th {\n",
       "        text-align: right;\n",
       "    }\n",
       "</style>\n",
       "<table border=\"1\" class=\"dataframe\">\n",
       "  <thead>\n",
       "    <tr style=\"text-align: right;\">\n",
       "      <th></th>\n",
       "      <th>str_time</th>\n",
       "      <th>str_time2</th>\n",
       "      <th>s_time</th>\n",
       "      <th>ms_time</th>\n",
       "      <th>utctime1</th>\n",
       "      <th>utctime2</th>\n",
       "    </tr>\n",
       "  </thead>\n",
       "  <tbody>\n",
       "    <tr>\n",
       "      <th>0</th>\n",
       "      <td>2020-01-01 12:03:05</td>\n",
       "      <td>20220112 12:03:05</td>\n",
       "      <td>1642244343</td>\n",
       "      <td>1642244343000</td>\n",
       "      <td>2020-01-01 12:03:05</td>\n",
       "      <td>2022-01-12 12:03:05</td>\n",
       "    </tr>\n",
       "    <tr>\n",
       "      <th>1</th>\n",
       "      <td>2022-01-10 12:34:07</td>\n",
       "      <td>20220112 12:04:07</td>\n",
       "      <td>1642244443</td>\n",
       "      <td>1642244443000</td>\n",
       "      <td>2022-01-10 12:34:07</td>\n",
       "      <td>2022-01-12 12:04:07</td>\n",
       "    </tr>\n",
       "    <tr>\n",
       "      <th>2</th>\n",
       "      <td>2022-01-31 12:05:09</td>\n",
       "      <td>20220112 12:05:09</td>\n",
       "      <td>1642244543</td>\n",
       "      <td>164224454300</td>\n",
       "      <td>2022-01-31 12:05:09</td>\n",
       "      <td>2022-01-12 12:05:09</td>\n",
       "    </tr>\n",
       "  </tbody>\n",
       "</table>\n",
       "</div>"
      ],
      "text/plain": [
       "              str_time          str_time2      s_time        ms_time  \\\n",
       "0  2020-01-01 12:03:05  20220112 12:03:05  1642244343  1642244343000   \n",
       "1  2022-01-10 12:34:07  20220112 12:04:07  1642244443  1642244443000   \n",
       "2  2022-01-31 12:05:09  20220112 12:05:09  1642244543   164224454300   \n",
       "\n",
       "             utctime1            utctime2  \n",
       "0 2020-01-01 12:03:05 2022-01-12 12:03:05  \n",
       "1 2022-01-10 12:34:07 2022-01-12 12:04:07  \n",
       "2 2022-01-31 12:05:09 2022-01-12 12:05:09  "
      ]
     },
     "execution_count": 7,
     "metadata": {},
     "output_type": "execute_result"
    }
   ],
   "source": [
    "# 字符串非默认时间格式，需要给定format\n",
    "df['utctime2'] = pd.to_datetime(df['str_time2'], format=\"%Y%m%d %H:%M:%S\")\n",
    "df"
   ]
  },
  {
   "cell_type": "code",
   "execution_count": 8,
   "id": "57a87680-7aa9-4434-9ac3-f4d7dc771e30",
   "metadata": {},
   "outputs": [
    {
     "data": {
      "text/html": [
       "<div>\n",
       "<style scoped>\n",
       "    .dataframe tbody tr th:only-of-type {\n",
       "        vertical-align: middle;\n",
       "    }\n",
       "\n",
       "    .dataframe tbody tr th {\n",
       "        vertical-align: top;\n",
       "    }\n",
       "\n",
       "    .dataframe thead th {\n",
       "        text-align: right;\n",
       "    }\n",
       "</style>\n",
       "<table border=\"1\" class=\"dataframe\">\n",
       "  <thead>\n",
       "    <tr style=\"text-align: right;\">\n",
       "      <th></th>\n",
       "      <th>str_time</th>\n",
       "      <th>str_time2</th>\n",
       "      <th>s_time</th>\n",
       "      <th>ms_time</th>\n",
       "      <th>utctime1</th>\n",
       "      <th>utctime2</th>\n",
       "      <th>utctime3</th>\n",
       "    </tr>\n",
       "  </thead>\n",
       "  <tbody>\n",
       "    <tr>\n",
       "      <th>0</th>\n",
       "      <td>2020-01-01 12:03:05</td>\n",
       "      <td>20220112 12:03:05</td>\n",
       "      <td>1642244343</td>\n",
       "      <td>1642244343000</td>\n",
       "      <td>2020-01-01 12:03:05</td>\n",
       "      <td>2022-01-12 12:03:05</td>\n",
       "      <td>2022-01-15 10:59:03</td>\n",
       "    </tr>\n",
       "    <tr>\n",
       "      <th>1</th>\n",
       "      <td>2022-01-10 12:34:07</td>\n",
       "      <td>20220112 12:04:07</td>\n",
       "      <td>1642244443</td>\n",
       "      <td>1642244443000</td>\n",
       "      <td>2022-01-10 12:34:07</td>\n",
       "      <td>2022-01-12 12:04:07</td>\n",
       "      <td>2022-01-15 11:00:43</td>\n",
       "    </tr>\n",
       "    <tr>\n",
       "      <th>2</th>\n",
       "      <td>2022-01-31 12:05:09</td>\n",
       "      <td>20220112 12:05:09</td>\n",
       "      <td>1642244543</td>\n",
       "      <td>164224454300</td>\n",
       "      <td>2022-01-31 12:05:09</td>\n",
       "      <td>2022-01-12 12:05:09</td>\n",
       "      <td>2022-01-15 11:02:23</td>\n",
       "    </tr>\n",
       "  </tbody>\n",
       "</table>\n",
       "</div>"
      ],
      "text/plain": [
       "              str_time          str_time2      s_time        ms_time  \\\n",
       "0  2020-01-01 12:03:05  20220112 12:03:05  1642244343  1642244343000   \n",
       "1  2022-01-10 12:34:07  20220112 12:04:07  1642244443  1642244443000   \n",
       "2  2022-01-31 12:05:09  20220112 12:05:09  1642244543   164224454300   \n",
       "\n",
       "             utctime1            utctime2            utctime3  \n",
       "0 2020-01-01 12:03:05 2022-01-12 12:03:05 2022-01-15 10:59:03  \n",
       "1 2022-01-10 12:34:07 2022-01-12 12:04:07 2022-01-15 11:00:43  \n",
       "2 2022-01-31 12:05:09 2022-01-12 12:05:09 2022-01-15 11:02:23  "
      ]
     },
     "execution_count": 8,
     "metadata": {},
     "output_type": "execute_result"
    }
   ],
   "source": [
    "# s级时间戳\n",
    "df['utctime3'] = pd.to_datetime(df['s_time'], unit='s')\n",
    "df"
   ]
  },
  {
   "cell_type": "code",
   "execution_count": 9,
   "id": "fd20f68c-b497-45f2-a627-95cfc01d3908",
   "metadata": {},
   "outputs": [
    {
     "data": {
      "text/html": [
       "<div>\n",
       "<style scoped>\n",
       "    .dataframe tbody tr th:only-of-type {\n",
       "        vertical-align: middle;\n",
       "    }\n",
       "\n",
       "    .dataframe tbody tr th {\n",
       "        vertical-align: top;\n",
       "    }\n",
       "\n",
       "    .dataframe thead th {\n",
       "        text-align: right;\n",
       "    }\n",
       "</style>\n",
       "<table border=\"1\" class=\"dataframe\">\n",
       "  <thead>\n",
       "    <tr style=\"text-align: right;\">\n",
       "      <th></th>\n",
       "      <th>str_time</th>\n",
       "      <th>str_time2</th>\n",
       "      <th>s_time</th>\n",
       "      <th>ms_time</th>\n",
       "      <th>utctime1</th>\n",
       "      <th>utctime2</th>\n",
       "      <th>utctime3</th>\n",
       "      <th>utctime4</th>\n",
       "    </tr>\n",
       "  </thead>\n",
       "  <tbody>\n",
       "    <tr>\n",
       "      <th>0</th>\n",
       "      <td>2020-01-01 12:03:05</td>\n",
       "      <td>20220112 12:03:05</td>\n",
       "      <td>1642244343</td>\n",
       "      <td>1642244343000</td>\n",
       "      <td>2020-01-01 12:03:05</td>\n",
       "      <td>2022-01-12 12:03:05</td>\n",
       "      <td>2022-01-15 10:59:03</td>\n",
       "      <td>2022-01-15 10:59:03.000</td>\n",
       "    </tr>\n",
       "    <tr>\n",
       "      <th>1</th>\n",
       "      <td>2022-01-10 12:34:07</td>\n",
       "      <td>20220112 12:04:07</td>\n",
       "      <td>1642244443</td>\n",
       "      <td>1642244443000</td>\n",
       "      <td>2022-01-10 12:34:07</td>\n",
       "      <td>2022-01-12 12:04:07</td>\n",
       "      <td>2022-01-15 11:00:43</td>\n",
       "      <td>2022-01-15 11:00:43.000</td>\n",
       "    </tr>\n",
       "    <tr>\n",
       "      <th>2</th>\n",
       "      <td>2022-01-31 12:05:09</td>\n",
       "      <td>20220112 12:05:09</td>\n",
       "      <td>1642244543</td>\n",
       "      <td>164224454300</td>\n",
       "      <td>2022-01-31 12:05:09</td>\n",
       "      <td>2022-01-12 12:05:09</td>\n",
       "      <td>2022-01-15 11:02:23</td>\n",
       "      <td>1975-03-16 17:54:14.300</td>\n",
       "    </tr>\n",
       "  </tbody>\n",
       "</table>\n",
       "</div>"
      ],
      "text/plain": [
       "              str_time          str_time2      s_time        ms_time  \\\n",
       "0  2020-01-01 12:03:05  20220112 12:03:05  1642244343  1642244343000   \n",
       "1  2022-01-10 12:34:07  20220112 12:04:07  1642244443  1642244443000   \n",
       "2  2022-01-31 12:05:09  20220112 12:05:09  1642244543   164224454300   \n",
       "\n",
       "             utctime1            utctime2            utctime3  \\\n",
       "0 2020-01-01 12:03:05 2022-01-12 12:03:05 2022-01-15 10:59:03   \n",
       "1 2022-01-10 12:34:07 2022-01-12 12:04:07 2022-01-15 11:00:43   \n",
       "2 2022-01-31 12:05:09 2022-01-12 12:05:09 2022-01-15 11:02:23   \n",
       "\n",
       "                 utctime4  \n",
       "0 2022-01-15 10:59:03.000  \n",
       "1 2022-01-15 11:00:43.000  \n",
       "2 1975-03-16 17:54:14.300  "
      ]
     },
     "execution_count": 9,
     "metadata": {},
     "output_type": "execute_result"
    }
   ],
   "source": [
    "# ms级时间戳，注意m后面带小数\n",
    "df['utctime4'] = pd.to_datetime(df['ms_time'], unit='ms')\n",
    "df"
   ]
  },
  {
   "cell_type": "code",
   "execution_count": 10,
   "id": "d1fbe796-fb9c-4970-8210-2babef4a0c7a",
   "metadata": {},
   "outputs": [
    {
     "data": {
      "text/plain": [
       "str_time             object\n",
       "str_time2            object\n",
       "s_time                int64\n",
       "ms_time               int64\n",
       "utctime1     datetime64[ns]\n",
       "utctime2     datetime64[ns]\n",
       "utctime3     datetime64[ns]\n",
       "utctime4     datetime64[ns]\n",
       "dtype: object"
      ]
     },
     "execution_count": 10,
     "metadata": {},
     "output_type": "execute_result"
    }
   ],
   "source": [
    "df.dtypes"
   ]
  },
  {
   "cell_type": "code",
   "execution_count": null,
   "id": "d8eb5250-bf03-4095-a889-35cf7b57c91a",
   "metadata": {},
   "outputs": [],
   "source": []
  },
  {
   "cell_type": "markdown",
   "id": "a181f4c3-70fa-4ec8-b4c3-292e8f82e4de",
   "metadata": {},
   "source": []
  },
  {
   "cell_type": "markdown",
   "id": "281d862a-efdf-44cd-a6c1-3df5d8173635",
   "metadata": {},
   "source": [
    "# 2. 时间列操作\n",
    "\n",
    "对列加上 `dt` 后就可以进行时间操作"
   ]
  },
  {
   "cell_type": "markdown",
   "id": "ba614b09-92df-4634-bc35-c192b4a96dde",
   "metadata": {},
   "source": [
    "## 2.1 取时间组件操作"
   ]
  },
  {
   "cell_type": "code",
   "execution_count": 11,
   "id": "851dc817-40d2-4301-9a11-6bfcab122a76",
   "metadata": {},
   "outputs": [
    {
     "data": {
      "text/plain": [
       "0    2020\n",
       "1    2022\n",
       "2    2022\n",
       "Name: utctime1, dtype: int64"
      ]
     },
     "execution_count": 11,
     "metadata": {},
     "output_type": "execute_result"
    }
   ],
   "source": [
    "# 顾名思义\n",
    "df['utctime1'].dt.year  \n",
    "# df['utctime1'].dt.month\n",
    "# df['utctime1'].dt.day\n",
    "# df['utctime1'].dt.hour\n",
    "# df['utctime1'].dt.minute\n",
    "# df['utctime1'].dt.second\n",
    "# df['utctime1'].dt.microsecond \n",
    "\n",
    "# df['utctime1'].dt.date  \n",
    "# df['utctime1'].dt.time"
   ]
  },
  {
   "cell_type": "code",
   "execution_count": null,
   "id": "9cd45cac-bdd9-495a-910f-8cf627389e9e",
   "metadata": {},
   "outputs": [],
   "source": []
  },
  {
   "cell_type": "markdown",
   "id": "37be1b00-766e-4c19-9eb5-19ee54592a84",
   "metadata": {},
   "source": [
    "## 2.2 判断操作"
   ]
  },
  {
   "cell_type": "code",
   "execution_count": 12,
   "id": "25f9925c-9987-4ba9-bc68-c77ff427747a",
   "metadata": {},
   "outputs": [
    {
     "data": {
      "text/plain": [
       "0     True\n",
       "1    False\n",
       "2    False\n",
       "Name: utctime1, dtype: bool"
      ]
     },
     "execution_count": 12,
     "metadata": {},
     "output_type": "execute_result"
    }
   ],
   "source": [
    "# \n",
    "df['utctime1'].dt.is_leap_year  #是否闰年\n",
    "# df['utctime1'].dt.is_month_start  #是否闰年\n",
    "# df['utctime1'].dt.is_month_end  #是否闰年"
   ]
  },
  {
   "cell_type": "code",
   "execution_count": null,
   "id": "3cab1a25-713d-4f5f-84be-b125634cae08",
   "metadata": {},
   "outputs": [],
   "source": []
  },
  {
   "cell_type": "markdown",
   "id": "6a675d28-0b2c-40c6-8c3e-afdb3bcc6947",
   "metadata": {},
   "source": [
    "## 2.3 时间对齐操作\n",
    "\n",
    "支持的freq: https://pandas.pydata.org/docs/user_guide/timeseries.html#timeseries-offset-aliases"
   ]
  },
  {
   "cell_type": "code",
   "execution_count": 13,
   "id": "0ca91432-f159-4913-9d1d-5ffca56cf195",
   "metadata": {},
   "outputs": [
    {
     "data": {
      "text/plain": [
       "0   2020-01-01 12:03:05\n",
       "1   2022-01-10 12:34:07\n",
       "2   2022-01-31 12:05:09\n",
       "Name: utctime1, dtype: datetime64[ns]"
      ]
     },
     "execution_count": 13,
     "metadata": {},
     "output_type": "execute_result"
    }
   ],
   "source": [
    "df['utctime1']"
   ]
  },
  {
   "cell_type": "code",
   "execution_count": 14,
   "id": "4f2f52e7-4ea3-437d-b7db-2a3e5c04467b",
   "metadata": {},
   "outputs": [
    {
     "data": {
      "text/plain": [
       "0   2020-01-01 13:00:00\n",
       "1   2022-01-10 13:00:00\n",
       "2   2022-01-31 13:00:00\n",
       "Name: utctime1, dtype: datetime64[ns]"
      ]
     },
     "execution_count": 14,
     "metadata": {},
     "output_type": "execute_result"
    }
   ],
   "source": [
    "# 向上\n",
    "df['utctime1'].dt.ceil(freq=\"H\")"
   ]
  },
  {
   "cell_type": "code",
   "execution_count": 15,
   "id": "01e0953c-42cf-4009-91a4-87573ce807a8",
   "metadata": {},
   "outputs": [
    {
     "data": {
      "text/plain": [
       "0   2020-01-01 12:00:00\n",
       "1   2022-01-10 12:00:00\n",
       "2   2022-01-31 12:00:00\n",
       "Name: utctime1, dtype: datetime64[ns]"
      ]
     },
     "execution_count": 15,
     "metadata": {},
     "output_type": "execute_result"
    }
   ],
   "source": [
    "# 向下\n",
    "df['utctime1'].dt.floor(freq=\"H\")"
   ]
  },
  {
   "cell_type": "code",
   "execution_count": 16,
   "id": "94920ce4-a832-40cd-8e89-c8b4e1aff63e",
   "metadata": {},
   "outputs": [
    {
     "data": {
      "text/plain": [
       "0   2020-01-01 12:00:00\n",
       "1   2022-01-10 13:00:00\n",
       "2   2022-01-31 12:00:00\n",
       "Name: utctime1, dtype: datetime64[ns]"
      ]
     },
     "execution_count": 16,
     "metadata": {},
     "output_type": "execute_result"
    }
   ],
   "source": [
    "# 向最近的\n",
    "df['utctime1'].dt.round(freq=\"H\")"
   ]
  },
  {
   "cell_type": "code",
   "execution_count": null,
   "id": "b55aa7c4-4620-4064-9907-fb51b7cdcc1b",
   "metadata": {},
   "outputs": [],
   "source": []
  },
  {
   "cell_type": "code",
   "execution_count": null,
   "id": "72f2e761-9602-4fe1-bac7-1556752ce153",
   "metadata": {},
   "outputs": [],
   "source": []
  },
  {
   "cell_type": "markdown",
   "id": "7cc85510-493b-4f19-91f8-873211cc0db5",
   "metadata": {
    "tags": []
   },
   "source": [
    "# 3. 类型转换"
   ]
  },
  {
   "cell_type": "code",
   "execution_count": 17,
   "id": "0aab19d9-04df-4f85-a6e4-4893da09a48b",
   "metadata": {},
   "outputs": [
    {
     "data": {
      "text/plain": [
       "0    01/01/2020 12:03:05\n",
       "1    01/10/2022 12:34:07\n",
       "2    01/31/2022 12:05:09\n",
       "Name: utctime1, dtype: object"
      ]
     },
     "execution_count": 17,
     "metadata": {},
     "output_type": "execute_result"
    }
   ],
   "source": [
    "# 转换为字符串\n",
    "df['utctime1'].dt.strftime('%m/%d/%Y %H:%M:%S')"
   ]
  },
  {
   "cell_type": "code",
   "execution_count": 18,
   "id": "8833f8e5-1d5b-4ffa-aad5-4601f09fe8d3",
   "metadata": {},
   "outputs": [
    {
     "data": {
      "text/plain": [
       "array([1577880185000000000, 1641818047000000000, 1643630709000000000],\n",
       "      dtype=int64)"
      ]
     },
     "execution_count": 18,
     "metadata": {},
     "output_type": "execute_result"
    }
   ],
   "source": [
    "# 转换为int时间戳，到ns级别\n",
    "df['utctime1'].values.astype('int64')"
   ]
  },
  {
   "cell_type": "code",
   "execution_count": null,
   "id": "079c1bc6-6932-4244-a2a7-34722bd833df",
   "metadata": {},
   "outputs": [],
   "source": []
  },
  {
   "cell_type": "markdown",
   "id": "c3e619ce-a8cb-4442-87db-518538bcf020",
   "metadata": {},
   "source": [
    "# 4. timedelta 类型"
   ]
  },
  {
   "cell_type": "markdown",
   "id": "bd48c1b2-f302-468a-9613-1c4b76580b40",
   "metadata": {},
   "source": [
    "## 4.1 创建\n",
    "\n",
    "##### 创建单变量\n",
    "`pd.timedelta(class pandas.Timedelta(value=<object object>, unit=None, **kwargs)`\n",
    "- kwargs 一般用这个，kwargs: {days, seconds, microseconds, milliseconds, minutes, hours, weeks}.\n",
    "\n",
    "##### 创建列表\n",
    "`pd.to_timedelta(arg)`\n",
    "- arg  list of timedelta"
   ]
  },
  {
   "cell_type": "code",
   "execution_count": 19,
   "id": "214b517f-db5b-4278-b86b-8e7a5f715c38",
   "metadata": {},
   "outputs": [
    {
     "data": {
      "text/plain": [
       "Timedelta('0 days 03:05:00')"
      ]
     },
     "execution_count": 19,
     "metadata": {},
     "output_type": "execute_result"
    }
   ],
   "source": [
    "td = pd.Timedelta(hours=3, minutes=5)\n",
    "td"
   ]
  },
  {
   "cell_type": "code",
   "execution_count": 20,
   "id": "16deb8c5-c996-46e3-b362-525a88ac1003",
   "metadata": {},
   "outputs": [
    {
     "data": {
      "text/plain": [
       "0   2020-01-01 12:03:05\n",
       "1   2022-01-10 12:34:07\n",
       "2   2022-01-31 12:05:09\n",
       "Name: utctime1, dtype: datetime64[ns]"
      ]
     },
     "execution_count": 20,
     "metadata": {},
     "output_type": "execute_result"
    }
   ],
   "source": [
    "df['utctime1']"
   ]
  },
  {
   "cell_type": "code",
   "execution_count": 21,
   "id": "06ff5b71-424e-4aa7-a148-47c91761a4e0",
   "metadata": {},
   "outputs": [
    {
     "data": {
      "text/plain": [
       "0   2020-01-01 15:08:05\n",
       "1   2022-01-10 15:39:07\n",
       "2   2022-01-31 15:10:09\n",
       "Name: utctime1, dtype: datetime64[ns]"
      ]
     },
     "execution_count": 21,
     "metadata": {},
     "output_type": "execute_result"
    }
   ],
   "source": [
    "df['utctime1'] + td"
   ]
  },
  {
   "cell_type": "code",
   "execution_count": 22,
   "id": "9efd2e31-9ee2-45e8-a354-0df209bf50c4",
   "metadata": {},
   "outputs": [
    {
     "data": {
      "text/plain": [
       "0   2020-01-01 08:58:05\n",
       "1   2022-01-10 09:29:07\n",
       "2   2022-01-31 09:00:09\n",
       "Name: utctime1, dtype: datetime64[ns]"
      ]
     },
     "execution_count": 22,
     "metadata": {},
     "output_type": "execute_result"
    }
   ],
   "source": [
    "df['utctime1'] - td"
   ]
  },
  {
   "cell_type": "code",
   "execution_count": null,
   "id": "da84d383-f657-4cce-a403-7489484a55ee",
   "metadata": {},
   "outputs": [],
   "source": []
  },
  {
   "cell_type": "markdown",
   "id": "cb9910a3-ef94-4254-a5b6-1519f7edafbd",
   "metadata": {},
   "source": [
    "#### 也可以直接用内置的timedelta 替代"
   ]
  },
  {
   "cell_type": "code",
   "execution_count": 23,
   "id": "b8d331ee-2814-4327-aab4-30bee625ddfd",
   "metadata": {},
   "outputs": [
    {
     "data": {
      "text/plain": [
       "0   2020-01-01 15:08:05\n",
       "1   2022-01-10 15:39:07\n",
       "2   2022-01-31 15:10:09\n",
       "Name: utctime1, dtype: datetime64[ns]"
      ]
     },
     "execution_count": 23,
     "metadata": {},
     "output_type": "execute_result"
    }
   ],
   "source": [
    "from datetime import timedelta\n",
    "df['utctime1'] + timedelta(hours=3, minutes=5)"
   ]
  },
  {
   "cell_type": "code",
   "execution_count": null,
   "id": "f572a3a5-bc08-45df-999e-395f69089749",
   "metadata": {},
   "outputs": [],
   "source": []
  },
  {
   "cell_type": "code",
   "execution_count": 24,
   "id": "f7cc7584-675f-4c88-982c-8e7633b5f758",
   "metadata": {},
   "outputs": [
    {
     "data": {
      "text/plain": [
       "TimedeltaIndex(['0 days 01:00:00', '0 days 00:01:00', '0 days 00:00:30'], dtype='timedelta64[ns]', freq=None)"
      ]
     },
     "execution_count": 24,
     "metadata": {},
     "output_type": "execute_result"
    }
   ],
   "source": [
    "tds = pd.to_timedelta([pd.Timedelta(hours=1),pd.Timedelta(minutes=1),pd.Timedelta(seconds=30)])\n",
    "tds"
   ]
  },
  {
   "cell_type": "code",
   "execution_count": 25,
   "id": "91295754-3a8f-4678-8626-96a84f62ddb0",
   "metadata": {},
   "outputs": [
    {
     "data": {
      "text/plain": [
       "0   2020-01-01 12:03:05\n",
       "1   2022-01-10 12:34:07\n",
       "2   2022-01-31 12:05:09\n",
       "Name: utctime1, dtype: datetime64[ns]"
      ]
     },
     "execution_count": 25,
     "metadata": {},
     "output_type": "execute_result"
    }
   ],
   "source": [
    "df['utctime1']"
   ]
  },
  {
   "cell_type": "code",
   "execution_count": 26,
   "id": "80befbd9-ea20-4a0c-ba59-d0ec0aa55540",
   "metadata": {},
   "outputs": [
    {
     "data": {
      "text/plain": [
       "0   2020-01-01 13:03:05\n",
       "1   2022-01-10 12:35:07\n",
       "2   2022-01-31 12:05:39\n",
       "dtype: datetime64[ns]"
      ]
     },
     "execution_count": 26,
     "metadata": {},
     "output_type": "execute_result"
    }
   ],
   "source": [
    "df['utctime1'] + tds"
   ]
  },
  {
   "cell_type": "code",
   "execution_count": null,
   "id": "476dff52-0dff-40cb-abf7-bc64d2bd19e3",
   "metadata": {},
   "outputs": [],
   "source": []
  },
  {
   "cell_type": "markdown",
   "id": "ebd49801-965d-4207-bd4f-4dd331f9b9fa",
   "metadata": {
    "tags": []
   },
   "source": [
    "## 4.2 创建列"
   ]
  },
  {
   "cell_type": "code",
   "execution_count": 27,
   "id": "f89e264b-5e41-4e4e-8a4c-0c7afa0c586e",
   "metadata": {},
   "outputs": [
    {
     "data": {
      "text/plain": [
       "Components(days=0, hours=3, minutes=5, seconds=0, milliseconds=0, microseconds=0, nanoseconds=0)"
      ]
     },
     "execution_count": 27,
     "metadata": {},
     "output_type": "execute_result"
    }
   ],
   "source": [
    "# 查看结构\n",
    "td.components"
   ]
  },
  {
   "cell_type": "code",
   "execution_count": 28,
   "id": "2fd575fe-e1fe-438c-bb71-4078fef360bb",
   "metadata": {},
   "outputs": [
    {
     "data": {
      "text/html": [
       "<div>\n",
       "<style scoped>\n",
       "    .dataframe tbody tr th:only-of-type {\n",
       "        vertical-align: middle;\n",
       "    }\n",
       "\n",
       "    .dataframe tbody tr th {\n",
       "        vertical-align: top;\n",
       "    }\n",
       "\n",
       "    .dataframe thead th {\n",
       "        text-align: right;\n",
       "    }\n",
       "</style>\n",
       "<table border=\"1\" class=\"dataframe\">\n",
       "  <thead>\n",
       "    <tr style=\"text-align: right;\">\n",
       "      <th></th>\n",
       "      <th>days</th>\n",
       "      <th>hours</th>\n",
       "      <th>minutes</th>\n",
       "      <th>seconds</th>\n",
       "      <th>milliseconds</th>\n",
       "      <th>microseconds</th>\n",
       "      <th>nanoseconds</th>\n",
       "    </tr>\n",
       "  </thead>\n",
       "  <tbody>\n",
       "    <tr>\n",
       "      <th>0</th>\n",
       "      <td>0</td>\n",
       "      <td>1</td>\n",
       "      <td>0</td>\n",
       "      <td>0</td>\n",
       "      <td>0</td>\n",
       "      <td>0</td>\n",
       "      <td>0</td>\n",
       "    </tr>\n",
       "    <tr>\n",
       "      <th>1</th>\n",
       "      <td>0</td>\n",
       "      <td>0</td>\n",
       "      <td>1</td>\n",
       "      <td>0</td>\n",
       "      <td>0</td>\n",
       "      <td>0</td>\n",
       "      <td>0</td>\n",
       "    </tr>\n",
       "    <tr>\n",
       "      <th>2</th>\n",
       "      <td>0</td>\n",
       "      <td>0</td>\n",
       "      <td>0</td>\n",
       "      <td>30</td>\n",
       "      <td>0</td>\n",
       "      <td>0</td>\n",
       "      <td>0</td>\n",
       "    </tr>\n",
       "  </tbody>\n",
       "</table>\n",
       "</div>"
      ],
      "text/plain": [
       "   days  hours  minutes  seconds  milliseconds  microseconds  nanoseconds\n",
       "0     0      1        0        0             0             0            0\n",
       "1     0      0        1        0             0             0            0\n",
       "2     0      0        0       30             0             0            0"
      ]
     },
     "execution_count": 28,
     "metadata": {},
     "output_type": "execute_result"
    }
   ],
   "source": [
    "# 查看结构\n",
    "tds.components"
   ]
  },
  {
   "cell_type": "code",
   "execution_count": null,
   "id": "f66371fe-a3d0-43b9-a971-a0b541a16330",
   "metadata": {},
   "outputs": [],
   "source": []
  },
  {
   "cell_type": "code",
   "execution_count": 29,
   "id": "ff7dfd6e-7c16-4dc0-9771-98d81507c04c",
   "metadata": {},
   "outputs": [
    {
     "data": {
      "text/plain": [
       "11100.0"
      ]
     },
     "execution_count": 29,
     "metadata": {},
     "output_type": "execute_result"
    }
   ],
   "source": [
    "# 转化为 s\n",
    "td.total_seconds()"
   ]
  },
  {
   "cell_type": "code",
   "execution_count": 30,
   "id": "a8607cc9-a10e-45b4-be19-c63230d1cb2f",
   "metadata": {},
   "outputs": [
    {
     "data": {
      "text/plain": [
       "Float64Index([3600.0, 60.00000000000001, 30.000000000000004], dtype='float64')"
      ]
     },
     "execution_count": 30,
     "metadata": {},
     "output_type": "execute_result"
    }
   ],
   "source": [
    "tds.total_seconds()"
   ]
  },
  {
   "cell_type": "code",
   "execution_count": null,
   "id": "46a20a3e-f6d4-4bd8-b73e-1a55c236bd4e",
   "metadata": {},
   "outputs": [],
   "source": []
  }
 ],
 "metadata": {
  "kernelspec": {
   "display_name": "Python 3 (ipykernel)",
   "language": "python",
   "name": "python3"
  },
  "language_info": {
   "codemirror_mode": {
    "name": "ipython",
    "version": 3
   },
   "file_extension": ".py",
   "mimetype": "text/x-python",
   "name": "python",
   "nbconvert_exporter": "python",
   "pygments_lexer": "ipython3",
   "version": "3.10.0"
  }
 },
 "nbformat": 4,
 "nbformat_minor": 5
}
