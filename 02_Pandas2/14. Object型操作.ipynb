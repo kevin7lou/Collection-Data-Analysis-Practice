{
 "cells": [
  {
   "cell_type": "markdown",
   "id": "0485413d-d8e5-4156-9eed-a8df3eca8caa",
   "metadata": {},
   "source": [
    "# Object型操作\n",
    "\n",
    "字符串以及一些复合类型比如列表类型tuple、list，字典类型等元素类型的操作"
   ]
  },
  {
   "cell_type": "code",
   "execution_count": 1,
   "id": "06dcbb60-10a4-4428-b351-827300085735",
   "metadata": {},
   "outputs": [],
   "source": [
    "__auther__ = 'zhenhang.sun@gmail.com'"
   ]
  },
  {
   "cell_type": "code",
   "execution_count": 2,
   "id": "75514624-4fb5-4d6e-a798-0e29d74ab65d",
   "metadata": {},
   "outputs": [
    {
     "data": {
      "text/plain": [
       "'D:\\\\github\\\\pandas-tutorial'"
      ]
     },
     "execution_count": 2,
     "metadata": {},
     "output_type": "execute_result"
    }
   ],
   "source": [
    "pwd"
   ]
  },
  {
   "cell_type": "code",
   "execution_count": 3,
   "id": "87e9525b-0868-43e1-a7f2-d9ef1d701db1",
   "metadata": {},
   "outputs": [],
   "source": [
    "import pandas as pd"
   ]
  },
  {
   "cell_type": "code",
   "execution_count": null,
   "id": "f95a93c9-09ae-4cdb-bff3-eeecb67e63fd",
   "metadata": {},
   "outputs": [],
   "source": []
  },
  {
   "cell_type": "markdown",
   "id": "ddd37be4-2523-44e0-8a5d-a412a1eac1c8",
   "metadata": {
    "tags": []
   },
   "source": [
    "# 0.\n",
    "\n",
    "**统一的操作前缀 .str**"
   ]
  },
  {
   "cell_type": "code",
   "execution_count": 4,
   "id": "30716e0b-4773-4619-b244-9f29469d4505",
   "metadata": {},
   "outputs": [
    {
     "data": {
      "text/html": [
       "<div>\n",
       "<style scoped>\n",
       "    .dataframe tbody tr th:only-of-type {\n",
       "        vertical-align: middle;\n",
       "    }\n",
       "\n",
       "    .dataframe tbody tr th {\n",
       "        vertical-align: top;\n",
       "    }\n",
       "\n",
       "    .dataframe thead th {\n",
       "        text-align: right;\n",
       "    }\n",
       "</style>\n",
       "<table border=\"1\" class=\"dataframe\">\n",
       "  <thead>\n",
       "    <tr style=\"text-align: right;\">\n",
       "      <th></th>\n",
       "      <th>str</th>\n",
       "      <th>list</th>\n",
       "      <th>dict</th>\n",
       "    </tr>\n",
       "  </thead>\n",
       "  <tbody>\n",
       "    <tr>\n",
       "      <th>0</th>\n",
       "      <td>abcidef</td>\n",
       "      <td>[1, 2, 3]</td>\n",
       "      <td>{'a': 1, 'b': 2}</td>\n",
       "    </tr>\n",
       "    <tr>\n",
       "      <th>1</th>\n",
       "      <td>hahabciidef</td>\n",
       "      <td>[4, 5, 6]</td>\n",
       "      <td>{'a': 10, 'b': 10}</td>\n",
       "    </tr>\n",
       "  </tbody>\n",
       "</table>\n",
       "</div>"
      ],
      "text/plain": [
       "           str       list                dict\n",
       "0      abcidef  [1, 2, 3]    {'a': 1, 'b': 2}\n",
       "1  hahabciidef  [4, 5, 6]  {'a': 10, 'b': 10}"
      ]
     },
     "execution_count": 4,
     "metadata": {},
     "output_type": "execute_result"
    }
   ],
   "source": [
    "df = pd.DataFrame({\"str\": [\"abcidef\", \"hahabciidef\"],\n",
    "                   \"list\":[[1,2,3],[4,5,6]],\n",
    "                   \"dict\":[{'a':1, 'b':2}, {'a':10, 'b':10}]\n",
    "                   \n",
    "                  })\n",
    "df"
   ]
  },
  {
   "cell_type": "markdown",
   "id": "477aedb8-bf1c-4339-82ba-01dd917c7e92",
   "metadata": {
    "tags": []
   },
   "source": [
    "# 1. 字符串操作"
   ]
  },
  {
   "cell_type": "markdown",
   "id": "e5e7fa21-e544-4f5b-8796-ca69ffd6c49a",
   "metadata": {},
   "source": [
    "## 1.1 字符串变换\n",
    "\n",
    "常用的字符串操作都支持：可以自行查看。"
   ]
  },
  {
   "cell_type": "code",
   "execution_count": 5,
   "id": "910b843e-b943-4d8b-aa5a-2e5868100fae",
   "metadata": {},
   "outputs": [
    {
     "data": {
      "text/plain": [
       "0        ABCIDEF\n",
       "1    HAHABCIIDEF\n",
       "Name: str, dtype: object"
      ]
     },
     "execution_count": 5,
     "metadata": {},
     "output_type": "execute_result"
    }
   ],
   "source": [
    "df['str'].str.upper()"
   ]
  },
  {
   "cell_type": "code",
   "execution_count": 6,
   "id": "113d9078-60d7-4fe2-bb1f-4cc288763192",
   "metadata": {},
   "outputs": [
    {
     "data": {
      "text/plain": [
       "0        Abcidef\n",
       "1    Hahabciidef\n",
       "Name: str, dtype: object"
      ]
     },
     "execution_count": 6,
     "metadata": {},
     "output_type": "execute_result"
    }
   ],
   "source": [
    "df['str'].str.capitalize()"
   ]
  },
  {
   "cell_type": "code",
   "execution_count": null,
   "id": "0659267a-d330-4b7f-af33-46d022796dbc",
   "metadata": {},
   "outputs": [],
   "source": []
  },
  {
   "cell_type": "markdown",
   "id": "a36f7a83-74e0-485d-9964-c03f300db770",
   "metadata": {},
   "source": [
    "## 1.2 字符串提取-正则\n"
   ]
  },
  {
   "cell_type": "code",
   "execution_count": 7,
   "id": "c635805e-489f-433c-afa3-bc0af1cf1b7c",
   "metadata": {},
   "outputs": [
    {
     "data": {
      "text/html": [
       "<div>\n",
       "<style scoped>\n",
       "    .dataframe tbody tr th:only-of-type {\n",
       "        vertical-align: middle;\n",
       "    }\n",
       "\n",
       "    .dataframe tbody tr th {\n",
       "        vertical-align: top;\n",
       "    }\n",
       "\n",
       "    .dataframe thead th {\n",
       "        text-align: right;\n",
       "    }\n",
       "</style>\n",
       "<table border=\"1\" class=\"dataframe\">\n",
       "  <thead>\n",
       "    <tr style=\"text-align: right;\">\n",
       "      <th></th>\n",
       "      <th>0</th>\n",
       "      <th>1</th>\n",
       "    </tr>\n",
       "  </thead>\n",
       "  <tbody>\n",
       "    <tr>\n",
       "      <th>0</th>\n",
       "      <td>abc</td>\n",
       "      <td>def</td>\n",
       "    </tr>\n",
       "    <tr>\n",
       "      <th>1</th>\n",
       "      <td>abc</td>\n",
       "      <td>def</td>\n",
       "    </tr>\n",
       "  </tbody>\n",
       "</table>\n",
       "</div>"
      ],
      "text/plain": [
       "     0    1\n",
       "0  abc  def\n",
       "1  abc  def"
      ]
     },
     "execution_count": 7,
     "metadata": {},
     "output_type": "execute_result"
    }
   ],
   "source": [
    "df['str'].str.extract(r\"(abc).*?(def)\")"
   ]
  },
  {
   "cell_type": "markdown",
   "id": "18a813fd-9ea7-458e-b87d-26e8adc131de",
   "metadata": {},
   "source": [
    "## 1.3 查找"
   ]
  },
  {
   "cell_type": "code",
   "execution_count": 8,
   "id": "fc7670a5-7dc1-438b-ae19-5cea28590625",
   "metadata": {},
   "outputs": [
    {
     "data": {
      "text/plain": [
       "0    0\n",
       "1    3\n",
       "Name: str, dtype: int64"
      ]
     },
     "execution_count": 8,
     "metadata": {},
     "output_type": "execute_result"
    }
   ],
   "source": [
    "df['str'].str.find('abc')"
   ]
  },
  {
   "cell_type": "markdown",
   "id": "6adc383f-9cc0-4832-b3c8-4ae523eed5ed",
   "metadata": {},
   "source": [
    "## 1.4 分割"
   ]
  },
  {
   "cell_type": "code",
   "execution_count": 9,
   "id": "ce57630a-d5cb-46e1-9b55-3b33c41fdb46",
   "metadata": {},
   "outputs": [
    {
     "data": {
      "text/plain": [
       "0         [abc, def]\n",
       "1    [hahabc, , def]\n",
       "Name: str, dtype: object"
      ]
     },
     "execution_count": 9,
     "metadata": {},
     "output_type": "execute_result"
    }
   ],
   "source": [
    "df['str'].str.split('i')"
   ]
  },
  {
   "cell_type": "code",
   "execution_count": 10,
   "id": "1f23ba45-10bb-4b15-a16e-e43c931b7da5",
   "metadata": {},
   "outputs": [
    {
     "data": {
      "text/html": [
       "<div>\n",
       "<style scoped>\n",
       "    .dataframe tbody tr th:only-of-type {\n",
       "        vertical-align: middle;\n",
       "    }\n",
       "\n",
       "    .dataframe tbody tr th {\n",
       "        vertical-align: top;\n",
       "    }\n",
       "\n",
       "    .dataframe thead th {\n",
       "        text-align: right;\n",
       "    }\n",
       "</style>\n",
       "<table border=\"1\" class=\"dataframe\">\n",
       "  <thead>\n",
       "    <tr style=\"text-align: right;\">\n",
       "      <th></th>\n",
       "      <th>0</th>\n",
       "      <th>1</th>\n",
       "      <th>2</th>\n",
       "    </tr>\n",
       "  </thead>\n",
       "  <tbody>\n",
       "    <tr>\n",
       "      <th>0</th>\n",
       "      <td>abc</td>\n",
       "      <td>def</td>\n",
       "      <td>None</td>\n",
       "    </tr>\n",
       "    <tr>\n",
       "      <th>1</th>\n",
       "      <td>hahabc</td>\n",
       "      <td></td>\n",
       "      <td>def</td>\n",
       "    </tr>\n",
       "  </tbody>\n",
       "</table>\n",
       "</div>"
      ],
      "text/plain": [
       "        0    1     2\n",
       "0     abc  def  None\n",
       "1  hahabc        def"
      ]
     },
     "execution_count": 10,
     "metadata": {},
     "output_type": "execute_result"
    }
   ],
   "source": [
    "df['str'].str.split('i', expand=True)"
   ]
  },
  {
   "cell_type": "markdown",
   "id": "ca9988fb-2ea0-448a-9155-9309dc0cfbfa",
   "metadata": {
    "tags": []
   },
   "source": [
    "## 1.5 包含判断"
   ]
  },
  {
   "cell_type": "code",
   "execution_count": 11,
   "id": "52d5f38b-db26-4580-ba54-4022cac12375",
   "metadata": {},
   "outputs": [
    {
     "data": {
      "text/plain": [
       "0    True\n",
       "1    True\n",
       "Name: str, dtype: bool"
      ]
     },
     "execution_count": 11,
     "metadata": {},
     "output_type": "execute_result"
    }
   ],
   "source": [
    "#取第 个位置的量\n",
    "df['str'].str.contains('abc')"
   ]
  },
  {
   "cell_type": "code",
   "execution_count": null,
   "id": "3fa1d363-b1c9-47cb-a118-2acd2ca23644",
   "metadata": {},
   "outputs": [],
   "source": []
  },
  {
   "cell_type": "markdown",
   "id": "fc594985-f9e0-4e48-a14c-3bc1130b2638",
   "metadata": {
    "tags": []
   },
   "source": [
    "# 2. 列表类型"
   ]
  },
  {
   "cell_type": "code",
   "execution_count": 12,
   "id": "a9bc121b-15c3-4318-acef-d7c1efdeff08",
   "metadata": {},
   "outputs": [
    {
     "data": {
      "text/html": [
       "<div>\n",
       "<style scoped>\n",
       "    .dataframe tbody tr th:only-of-type {\n",
       "        vertical-align: middle;\n",
       "    }\n",
       "\n",
       "    .dataframe tbody tr th {\n",
       "        vertical-align: top;\n",
       "    }\n",
       "\n",
       "    .dataframe thead th {\n",
       "        text-align: right;\n",
       "    }\n",
       "</style>\n",
       "<table border=\"1\" class=\"dataframe\">\n",
       "  <thead>\n",
       "    <tr style=\"text-align: right;\">\n",
       "      <th></th>\n",
       "      <th>str</th>\n",
       "      <th>list</th>\n",
       "      <th>dict</th>\n",
       "    </tr>\n",
       "  </thead>\n",
       "  <tbody>\n",
       "    <tr>\n",
       "      <th>0</th>\n",
       "      <td>abcidef</td>\n",
       "      <td>[1, 2, 3]</td>\n",
       "      <td>{'a': 1, 'b': 2}</td>\n",
       "    </tr>\n",
       "    <tr>\n",
       "      <th>1</th>\n",
       "      <td>hahabciidef</td>\n",
       "      <td>[4, 5, 6]</td>\n",
       "      <td>{'a': 10, 'b': 10}</td>\n",
       "    </tr>\n",
       "  </tbody>\n",
       "</table>\n",
       "</div>"
      ],
      "text/plain": [
       "           str       list                dict\n",
       "0      abcidef  [1, 2, 3]    {'a': 1, 'b': 2}\n",
       "1  hahabciidef  [4, 5, 6]  {'a': 10, 'b': 10}"
      ]
     },
     "execution_count": 12,
     "metadata": {},
     "output_type": "execute_result"
    }
   ],
   "source": [
    "df"
   ]
  },
  {
   "cell_type": "markdown",
   "id": "4210a82a-d4cb-42ac-897f-8dd399ac47f1",
   "metadata": {},
   "source": [
    "## 2.1 取元素"
   ]
  },
  {
   "cell_type": "code",
   "execution_count": 13,
   "id": "be3cd399-4e33-4d34-9d76-41470afa302e",
   "metadata": {},
   "outputs": [
    {
     "data": {
      "text/plain": [
       "0    2\n",
       "1    5\n",
       "Name: list, dtype: int64"
      ]
     },
     "execution_count": 13,
     "metadata": {},
     "output_type": "execute_result"
    }
   ],
   "source": [
    "#取第 个位置的量\n",
    "df['list'].str.get(1)"
   ]
  },
  {
   "cell_type": "markdown",
   "id": "b87d818c-7df0-4120-9386-9f851bc09a5d",
   "metadata": {},
   "source": [
    "## 2.2 展开\n"
   ]
  },
  {
   "cell_type": "code",
   "execution_count": 14,
   "id": "1501fd67-5d88-4de5-8341-eebedc759cc4",
   "metadata": {},
   "outputs": [
    {
     "data": {
      "text/plain": [
       "0    1\n",
       "0    2\n",
       "0    3\n",
       "1    4\n",
       "1    5\n",
       "1    6\n",
       "Name: list, dtype: object"
      ]
     },
     "execution_count": 14,
     "metadata": {},
     "output_type": "execute_result"
    }
   ],
   "source": [
    "# 炸开 series 形式\n",
    "# 注意此时不需要使用 .str\n",
    "df['list'].explode()"
   ]
  },
  {
   "cell_type": "code",
   "execution_count": 15,
   "id": "f7bc208a-aef9-4753-87ec-f7722f373430",
   "metadata": {},
   "outputs": [
    {
     "data": {
      "text/html": [
       "<div>\n",
       "<style scoped>\n",
       "    .dataframe tbody tr th:only-of-type {\n",
       "        vertical-align: middle;\n",
       "    }\n",
       "\n",
       "    .dataframe tbody tr th {\n",
       "        vertical-align: top;\n",
       "    }\n",
       "\n",
       "    .dataframe thead th {\n",
       "        text-align: right;\n",
       "    }\n",
       "</style>\n",
       "<table border=\"1\" class=\"dataframe\">\n",
       "  <thead>\n",
       "    <tr style=\"text-align: right;\">\n",
       "      <th></th>\n",
       "      <th>str</th>\n",
       "      <th>list</th>\n",
       "      <th>dict</th>\n",
       "    </tr>\n",
       "  </thead>\n",
       "  <tbody>\n",
       "    <tr>\n",
       "      <th>0</th>\n",
       "      <td>abcidef</td>\n",
       "      <td>1</td>\n",
       "      <td>{'a': 1, 'b': 2}</td>\n",
       "    </tr>\n",
       "    <tr>\n",
       "      <th>0</th>\n",
       "      <td>abcidef</td>\n",
       "      <td>2</td>\n",
       "      <td>{'a': 1, 'b': 2}</td>\n",
       "    </tr>\n",
       "    <tr>\n",
       "      <th>0</th>\n",
       "      <td>abcidef</td>\n",
       "      <td>3</td>\n",
       "      <td>{'a': 1, 'b': 2}</td>\n",
       "    </tr>\n",
       "    <tr>\n",
       "      <th>1</th>\n",
       "      <td>hahabciidef</td>\n",
       "      <td>4</td>\n",
       "      <td>{'a': 10, 'b': 10}</td>\n",
       "    </tr>\n",
       "    <tr>\n",
       "      <th>1</th>\n",
       "      <td>hahabciidef</td>\n",
       "      <td>5</td>\n",
       "      <td>{'a': 10, 'b': 10}</td>\n",
       "    </tr>\n",
       "    <tr>\n",
       "      <th>1</th>\n",
       "      <td>hahabciidef</td>\n",
       "      <td>6</td>\n",
       "      <td>{'a': 10, 'b': 10}</td>\n",
       "    </tr>\n",
       "  </tbody>\n",
       "</table>\n",
       "</div>"
      ],
      "text/plain": [
       "           str list                dict\n",
       "0      abcidef    1    {'a': 1, 'b': 2}\n",
       "0      abcidef    2    {'a': 1, 'b': 2}\n",
       "0      abcidef    3    {'a': 1, 'b': 2}\n",
       "1  hahabciidef    4  {'a': 10, 'b': 10}\n",
       "1  hahabciidef    5  {'a': 10, 'b': 10}\n",
       "1  hahabciidef    6  {'a': 10, 'b': 10}"
      ]
     },
     "execution_count": 15,
     "metadata": {},
     "output_type": "execute_result"
    }
   ],
   "source": [
    "#炸开 dataframe 指定某列\n",
    "df.explode('list')"
   ]
  },
  {
   "cell_type": "code",
   "execution_count": 16,
   "id": "9e53f211-daba-41b8-ab62-9f114afc81e4",
   "metadata": {},
   "outputs": [
    {
     "data": {
      "text/html": [
       "<div>\n",
       "<style scoped>\n",
       "    .dataframe tbody tr th:only-of-type {\n",
       "        vertical-align: middle;\n",
       "    }\n",
       "\n",
       "    .dataframe tbody tr th {\n",
       "        vertical-align: top;\n",
       "    }\n",
       "\n",
       "    .dataframe thead th {\n",
       "        text-align: right;\n",
       "    }\n",
       "</style>\n",
       "<table border=\"1\" class=\"dataframe\">\n",
       "  <thead>\n",
       "    <tr style=\"text-align: right;\">\n",
       "      <th></th>\n",
       "      <th>e1</th>\n",
       "      <th>e2</th>\n",
       "      <th>e3</th>\n",
       "    </tr>\n",
       "  </thead>\n",
       "  <tbody>\n",
       "    <tr>\n",
       "      <th>0</th>\n",
       "      <td>1</td>\n",
       "      <td>2</td>\n",
       "      <td>3</td>\n",
       "    </tr>\n",
       "    <tr>\n",
       "      <th>1</th>\n",
       "      <td>4</td>\n",
       "      <td>5</td>\n",
       "      <td>6</td>\n",
       "    </tr>\n",
       "  </tbody>\n",
       "</table>\n",
       "</div>"
      ],
      "text/plain": [
       "   e1  e2  e3\n",
       "0   1   2   3\n",
       "1   4   5   6"
      ]
     },
     "execution_count": 16,
     "metadata": {},
     "output_type": "execute_result"
    }
   ],
   "source": [
    "# 变为多列\n",
    "pd.DataFrame( df['list'].tolist(), columns=['e1', 'e2', 'e3'])"
   ]
  },
  {
   "cell_type": "code",
   "execution_count": null,
   "id": "e1999fa5-79d8-46f8-9531-6c5365081768",
   "metadata": {},
   "outputs": [],
   "source": []
  },
  {
   "cell_type": "markdown",
   "id": "03e24e48-5766-4f8f-8ab5-7e5bd7042a6c",
   "metadata": {
    "tags": []
   },
   "source": [
    "# 3. 字典类型"
   ]
  },
  {
   "cell_type": "code",
   "execution_count": 17,
   "id": "78339a64-6d4d-43cb-8688-13213552e549",
   "metadata": {},
   "outputs": [
    {
     "data": {
      "text/html": [
       "<div>\n",
       "<style scoped>\n",
       "    .dataframe tbody tr th:only-of-type {\n",
       "        vertical-align: middle;\n",
       "    }\n",
       "\n",
       "    .dataframe tbody tr th {\n",
       "        vertical-align: top;\n",
       "    }\n",
       "\n",
       "    .dataframe thead th {\n",
       "        text-align: right;\n",
       "    }\n",
       "</style>\n",
       "<table border=\"1\" class=\"dataframe\">\n",
       "  <thead>\n",
       "    <tr style=\"text-align: right;\">\n",
       "      <th></th>\n",
       "      <th>str</th>\n",
       "      <th>list</th>\n",
       "      <th>dict</th>\n",
       "    </tr>\n",
       "  </thead>\n",
       "  <tbody>\n",
       "    <tr>\n",
       "      <th>0</th>\n",
       "      <td>abcidef</td>\n",
       "      <td>[1, 2, 3]</td>\n",
       "      <td>{'a': 1, 'b': 2}</td>\n",
       "    </tr>\n",
       "    <tr>\n",
       "      <th>1</th>\n",
       "      <td>hahabciidef</td>\n",
       "      <td>[4, 5, 6]</td>\n",
       "      <td>{'a': 10, 'b': 10}</td>\n",
       "    </tr>\n",
       "  </tbody>\n",
       "</table>\n",
       "</div>"
      ],
      "text/plain": [
       "           str       list                dict\n",
       "0      abcidef  [1, 2, 3]    {'a': 1, 'b': 2}\n",
       "1  hahabciidef  [4, 5, 6]  {'a': 10, 'b': 10}"
      ]
     },
     "execution_count": 17,
     "metadata": {},
     "output_type": "execute_result"
    }
   ],
   "source": [
    "df"
   ]
  },
  {
   "cell_type": "markdown",
   "id": "84ba8ff7-1a1f-4c12-b7b1-1bb4cf5759e9",
   "metadata": {},
   "source": [
    "## 3.1 取元素"
   ]
  },
  {
   "cell_type": "code",
   "execution_count": 18,
   "id": "d7a76a3c-5a9f-4dc2-8475-491acdeaea1d",
   "metadata": {},
   "outputs": [
    {
     "data": {
      "text/plain": [
       "0     1\n",
       "1    10\n",
       "Name: dict, dtype: int64"
      ]
     },
     "execution_count": 18,
     "metadata": {},
     "output_type": "execute_result"
    }
   ],
   "source": [
    "#取key对应的值\n",
    "df['dict'].str.get('a')"
   ]
  },
  {
   "cell_type": "markdown",
   "id": "8331bb98-26c3-4a3b-90bb-dae05611124a",
   "metadata": {},
   "source": [
    "## 3.2 展开"
   ]
  },
  {
   "cell_type": "code",
   "execution_count": 19,
   "id": "8b079c37-9c34-414f-981b-d74b46a4d5c1",
   "metadata": {},
   "outputs": [
    {
     "data": {
      "text/plain": [
       "0    a\n",
       "0    b\n",
       "1    a\n",
       "1    b\n",
       "Name: dict, dtype: object"
      ]
     },
     "execution_count": 19,
     "metadata": {},
     "output_type": "execute_result"
    }
   ],
   "source": [
    "#炸开，可以只剩下key，事实上，这个操作也不适合dict\n",
    "df['dict'].explode()"
   ]
  },
  {
   "cell_type": "code",
   "execution_count": 20,
   "id": "8ae3ef52-f8b9-4c79-9a7c-17fc6e4e4899",
   "metadata": {},
   "outputs": [
    {
     "data": {
      "text/html": [
       "<div>\n",
       "<style scoped>\n",
       "    .dataframe tbody tr th:only-of-type {\n",
       "        vertical-align: middle;\n",
       "    }\n",
       "\n",
       "    .dataframe tbody tr th {\n",
       "        vertical-align: top;\n",
       "    }\n",
       "\n",
       "    .dataframe thead th {\n",
       "        text-align: right;\n",
       "    }\n",
       "</style>\n",
       "<table border=\"1\" class=\"dataframe\">\n",
       "  <thead>\n",
       "    <tr style=\"text-align: right;\">\n",
       "      <th></th>\n",
       "      <th>a</th>\n",
       "      <th>b</th>\n",
       "    </tr>\n",
       "  </thead>\n",
       "  <tbody>\n",
       "    <tr>\n",
       "      <th>0</th>\n",
       "      <td>1</td>\n",
       "      <td>2</td>\n",
       "    </tr>\n",
       "    <tr>\n",
       "      <th>1</th>\n",
       "      <td>10</td>\n",
       "      <td>10</td>\n",
       "    </tr>\n",
       "  </tbody>\n",
       "</table>\n",
       "</div>"
      ],
      "text/plain": [
       "    a   b\n",
       "0   1   2\n",
       "1  10  10"
      ]
     },
     "execution_count": 20,
     "metadata": {},
     "output_type": "execute_result"
    }
   ],
   "source": [
    "# 变为多列\n",
    "pd.DataFrame(df['dict'].tolist())"
   ]
  }
 ],
 "metadata": {
  "kernelspec": {
   "display_name": "Python 3 (ipykernel)",
   "language": "python",
   "name": "python3"
  },
  "language_info": {
   "codemirror_mode": {
    "name": "ipython",
    "version": 3
   },
   "file_extension": ".py",
   "mimetype": "text/x-python",
   "name": "python",
   "nbconvert_exporter": "python",
   "pygments_lexer": "ipython3",
   "version": "3.10.0"
  },
  "toc-autonumbering": false,
  "toc-showcode": false,
  "toc-showmarkdowntxt": false,
  "toc-showtags": false
 },
 "nbformat": 4,
 "nbformat_minor": 5
}
