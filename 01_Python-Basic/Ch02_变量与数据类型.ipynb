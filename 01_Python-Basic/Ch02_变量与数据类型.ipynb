{
 "cells": [
  {
   "cell_type": "markdown",
   "metadata": {},
   "source": [
    "# 变量与数据类型"
   ]
  },
  {
   "cell_type": "markdown",
   "metadata": {},
   "source": [
    "## 数据类型概述\n",
    "\n",
    "Python标准数据类型：Numbers数字，String字符串，List列表，Tuple元祖，Dict字典"
   ]
  },
  {
   "cell_type": "markdown",
   "metadata": {},
   "source": [
    "### 数值 Numbers\n",
    "- int 整型\n",
    "- long 长整型\n",
    "- float 浮点型\n",
    "- complex 复数"
   ]
  },
  {
   "cell_type": "code",
   "execution_count": 20,
   "metadata": {},
   "outputs": [
    {
     "name": "stdout",
     "output_type": "stream",
     "text": [
      "<class 'int'> <class 'float'>\n"
     ]
    }
   ],
   "source": [
    "x1 = 10\n",
    "x2 = 10.0\n",
    "print(type(x1), type(x2))"
   ]
  },
  {
   "cell_type": "markdown",
   "metadata": {},
   "source": [
    "### 字符串 String\n",
    "由数字、字母、下划线组成的一串字符，用于表示文本的数据类型。\n",
    "\n",
    "一定用英文标点符号，单引号(`''`) 双引号(`\"\"`)一样，三引号(`''''''`或`\"\"\"\"\"\"`)可以表示多行字符串。"
   ]
  },
  {
   "cell_type": "code",
   "execution_count": 11,
   "metadata": {},
   "outputs": [
    {
     "name": "stdout",
     "output_type": "stream",
     "text": [
      "hello world! <class 'str'>\n",
      "Hi Python！\n",
      "hahaha\n",
      "what is this?\n",
      "it`s a cat.\n"
     ]
    }
   ],
   "source": [
    "x3 = \"hello world!\"\n",
    "print(x3,type(x3))\n",
    "\n",
    "print('Hi Python！')\n",
    "print(\"hahaha\")\n",
    "print('''what is this?\n",
    "it`s a cat.''')"
   ]
  },
  {
   "cell_type": "markdown",
   "metadata": {},
   "source": [
    "### 布尔型 bool\n",
    "返回True或False，用于做判断"
   ]
  },
  {
   "cell_type": "code",
   "execution_count": 12,
   "metadata": {},
   "outputs": [
    {
     "name": "stdout",
     "output_type": "stream",
     "text": [
      "True <class 'bool'>\n",
      "True\n",
      "True\n",
      "10\n"
     ]
    }
   ],
   "source": [
    "x4 = True\n",
    "print(x4,type(x4))\n",
    "\n",
    "print(True == 1)\n",
    "print(False == 0)\n",
    "# True实际值是1，False实际值是0\n",
    "print(True * 10)"
   ]
  },
  {
   "cell_type": "markdown",
   "metadata": {},
   "source": [
    "### 列表 List\n",
    "支持字符，数字，字符串以包含列表（即嵌套），用`[]`标识，**有序**对象"
   ]
  },
  {
   "cell_type": "code",
   "execution_count": 14,
   "metadata": {},
   "outputs": [
    {
     "name": "stdout",
     "output_type": "stream",
     "text": [
      "[1, 'a', 2.4, 502.2, [1, 2, 3]] <class 'list'>\n"
     ]
    }
   ],
   "source": [
    "x5 = [1,'a',2.4,502.2,[1,2,3]]\n",
    "print(x5, type(x5))"
   ]
  },
  {
   "cell_type": "markdown",
   "metadata": {},
   "source": [
    "### 元祖 Tuple\n",
    "用`()`标识，*不能二次赋值*，可以理解成不可变的列表（只读列表），**有序**对象"
   ]
  },
  {
   "cell_type": "code",
   "execution_count": 17,
   "metadata": {},
   "outputs": [
    {
     "name": "stdout",
     "output_type": "stream",
     "text": [
      "(1, 2, 3, 'hello') <class 'tuple'>\n"
     ]
    }
   ],
   "source": [
    "x6 = (1,2,3,'hello')\n",
    "print(x6, type(x6))"
   ]
  },
  {
   "cell_type": "markdown",
   "metadata": {},
   "source": [
    "### Dict字典\n",
    "用`{}`标识，由索引 key 和它对应的值value组成，**无序对象**"
   ]
  },
  {
   "cell_type": "code",
   "execution_count": 18,
   "metadata": {},
   "outputs": [
    {
     "name": "stdout",
     "output_type": "stream",
     "text": [
      "{'name': 'fatbird', 'city': 'shanghai', 'tel': 10001000} <class 'dict'>\n"
     ]
    }
   ],
   "source": [
    "x7 = {\"name\":\"fatbird\", \"city\":\"shanghai\", \"tel\":10001000}\n",
    "print(x7, type(x7))"
   ]
  },
  {
   "cell_type": "markdown",
   "metadata": {},
   "source": [
    "### 数据类型转换\n",
    "![type-conversion-in-python](https://techvidvan.com/tutorials/wp-content/uploads/sites/2/2019/12/type-conversion-in-python.jpg)"
   ]
  },
  {
   "cell_type": "code",
   "execution_count": 22,
   "metadata": {},
   "outputs": [
    {
     "name": "stdout",
     "output_type": "stream",
     "text": [
      "10.8 <class 'float'>\n",
      "10 <class 'int'>\n",
      "----------\n",
      "10 <class 'int'>\n",
      "10.0 <class 'float'>\n",
      "----------\n",
      "10.0 <class 'float'>\n",
      "10.0 <class 'str'>\n",
      "10.0 <class 'float'>\n",
      "----------\n"
     ]
    }
   ],
   "source": [
    "# 这里暂时只针对int，float，str三者，list/tuple/dict后面课程讲\n",
    "# int(x)函数：将x转为整数，如果是四舍五入则是round(x)函数\n",
    "var1 = 10.8\n",
    "var2 = int(var1)\n",
    "print(var1, type(var1))\n",
    "print(var2, type(var2))\n",
    "print('----------')\n",
    "\n",
    "# float(x)函数：将x转为浮点数\n",
    "var1 = 10\n",
    "var2 = float(var1)\n",
    "print(var1, type(var1))\n",
    "print(var2, type(var2))\n",
    "print('----------')\n",
    "\n",
    "# str(x)函数：将x转为字符串\n",
    "var1 = 10.0\n",
    "var2 = str(var1)\n",
    "var3 = float(var2)\n",
    "print(var1, type(var1))\n",
    "print(var2, type(var2))\n",
    "print(var3, type(var3))\n",
    "print('----------')"
   ]
  },
  {
   "cell_type": "markdown",
   "metadata": {},
   "source": [
    "## 认识变量\n",
    "\n",
    "- 什么是变量？方程式 `=`左边的，就是变量。等号（=）用来给变量赋值。\n",
    "\n",
    "- 给变量赋值即创建该变量，并且同时赋予该变量\n",
    "  - 变量名\n",
    "  - 变量类型\n",
    "\n",
    "- 变量命名规则：\n",
    "  - 变量名第一个字符必须是字母（大小写均可）或者下划线（`_`），不能数字开头；\n",
    "  - 变量名不能和常用功能性名字重合，例如`print`，`if`，`for`\n",
    "  - 不要有空格"
   ]
  },
  {
   "cell_type": "code",
   "execution_count": 24,
   "metadata": {},
   "outputs": [
    {
     "name": "stdout",
     "output_type": "stream",
     "text": [
      "100\n",
      "1000.0\n",
      "John\n"
     ]
    }
   ],
   "source": [
    "# 变量赋值\n",
    "\n",
    "counter = 100 # 赋值整型变量\n",
    "miles = 1000.0 # 浮点型\n",
    "name = \"John\" # 字符串\n",
    " \n",
    "print(counter)\n",
    "print(miles)\n",
    "print(name)"
   ]
  },
  {
   "cell_type": "code",
   "execution_count": 25,
   "metadata": {},
   "outputs": [
    {
     "name": "stdout",
     "output_type": "stream",
     "text": [
      "1 1 1 1 2 hello\n"
     ]
    }
   ],
   "source": [
    "# 多变量赋值\n",
    "\n",
    "a = b = c = 1\n",
    "d , e , f = 1 , 2 , 'hello'\n",
    "print(a,b,c,d,e,f)"
   ]
  },
  {
   "cell_type": "code",
   "execution_count": 26,
   "metadata": {},
   "outputs": [
    {
     "name": "stdout",
     "output_type": "stream",
     "text": [
      "10\n",
      "20\n"
     ]
    }
   ],
   "source": [
    "# 动态变量 → 变量的值是可更改的，或者说，变量可以随时指向任意值\n",
    "\n",
    "var1 = 10\n",
    "print(var1)\n",
    "var1 = 20\n",
    "print(var1)"
   ]
  },
  {
   "cell_type": "markdown",
   "metadata": {},
   "source": [
    "### 运算符\n",
    "\n",
    "什么是运算符？\n",
    "\n",
    "1 +2 = 3 的例子中，1 和 2 被称为操作数，\"+\" 称为运算符"
   ]
  },
  {
   "cell_type": "markdown",
   "metadata": {},
   "source": [
    "### 算数运算符"
   ]
  },
  {
   "cell_type": "code",
   "execution_count": 29,
   "metadata": {},
   "outputs": [
    {
     "name": "stdout",
     "output_type": "stream",
     "text": [
      "a加b 的值为： 31\n",
      "a减b 的值为： 11\n",
      "a乘b 的值为： 210\n",
      "a除b 的值为： 2.1\n",
      "a取b的模为： 1\n",
      "2的3次方的值为： 8\n",
      "10除4的整除数为： 2\n"
     ]
    }
   ],
   "source": [
    "a, b, c = 21, 10, 0\n",
    " \n",
    "c = a + b  # 加法\n",
    "print (\"a加b 的值为：\", c)\n",
    " \n",
    "c = a - b  # 减法\n",
    "print( \"a减b 的值为：\", c )\n",
    " \n",
    "c = a * b  # 乘法\n",
    "print( \"a乘b 的值为：\", c )\n",
    " \n",
    "c = a / b  # 除法\n",
    "print( \"a除b 的值为：\", c )\n",
    " \n",
    "c = a % b  # 取模，返回除法的余数\n",
    "print( \"a取b的模为：\", c)\n",
    " \n",
    "# 修改变量 a 、b 、c\n",
    "a, b, = 2, 3\n",
    "c = a**b   # 幂\n",
    "print( \"2的3次方的值为：\", c)\n",
    " \n",
    "a, b = 10, 4\n",
    "c = a//b  # 取整除数 \n",
    "print( \"10除4的整除数为：\", c)"
   ]
  },
  {
   "cell_type": "markdown",
   "metadata": {},
   "source": [
    "### 比较运算符"
   ]
  },
  {
   "cell_type": "code",
   "execution_count": 31,
   "metadata": {},
   "outputs": [
    {
     "name": "stdout",
     "output_type": "stream",
     "text": [
      "False\n",
      "True\n",
      "True\n",
      "False\n",
      "True\n",
      "False\n"
     ]
    }
   ],
   "source": [
    "a, b = 21, 10\n",
    "print(a == b)  # 等于\n",
    "print(a != b)  # 不等于\n",
    "print(a > b)  # 大于\n",
    "print(a < b)  # 小于\n",
    "print(a >= 21)  # 大于等于\n",
    "print(a <= 2)  # 小于等于"
   ]
  },
  {
   "cell_type": "markdown",
   "metadata": {},
   "source": [
    "### 逻辑运算符"
   ]
  },
  {
   "cell_type": "code",
   "execution_count": 34,
   "metadata": {},
   "outputs": [
    {
     "name": "stdout",
     "output_type": "stream",
     "text": [
      "False\n",
      "True\n",
      "False\n",
      "-----\n",
      "True\n",
      "-----\n"
     ]
    }
   ],
   "source": [
    "print(True and False)  # and：且\n",
    "print(True or False)  # or：或\n",
    "print(not True)  # not：非\n",
    "print('-----')\n",
    "\n",
    "# 布尔型的本质：True的值等于1，False的值等于0\n",
    "print(True>0)\n",
    "print('-----')"
   ]
  },
  {
   "cell_type": "markdown",
   "metadata": {},
   "source": [
    "`bool()`函数：\n",
    "\n",
    "将值转换为布尔型，其中只有以下情况`bool()`返回`False`：`0`, `0.0`, `None`，`''`, `[]`, `{}`"
   ]
  },
  {
   "cell_type": "code",
   "execution_count": 35,
   "metadata": {},
   "outputs": [
    {
     "name": "stdout",
     "output_type": "stream",
     "text": [
      "False True True True False\n"
     ]
    }
   ],
   "source": [
    "print(bool(0),bool(3),bool(-1),bool([1,2,3]),bool(0)) "
   ]
  },
  {
   "cell_type": "markdown",
   "metadata": {},
   "source": [
    "### 成员运算符"
   ]
  },
  {
   "cell_type": "code",
   "execution_count": 36,
   "metadata": {},
   "outputs": [
    {
     "name": "stdout",
     "output_type": "stream",
     "text": [
      "True\n",
      "True\n"
     ]
    }
   ],
   "source": [
    "lst = [1,2,3,4,5,6]\n",
    "a,b = 1,10\n",
    "print(a in lst)  # a 在 lst 序列中 , 如果 x 在 y 序列中返回 True。\n",
    "print(b not in lst)  # b 不在 lst 序列中 , 如果 x 不在 y 序列中返回 True。"
   ]
  },
  {
   "cell_type": "code",
   "execution_count": null,
   "metadata": {},
   "outputs": [],
   "source": []
  }
 ],
 "metadata": {
  "anaconda-cloud": {},
  "kernelspec": {
   "display_name": "Python 3 (ipykernel)",
   "language": "python",
   "name": "python3"
  },
  "language_info": {
   "codemirror_mode": {
    "name": "ipython",
    "version": 3
   },
   "file_extension": ".py",
   "mimetype": "text/x-python",
   "name": "python",
   "nbconvert_exporter": "python",
   "pygments_lexer": "ipython3",
   "version": "3.9.7"
  },
  "toc-autonumbering": true
 },
 "nbformat": 4,
 "nbformat_minor": 4
}
