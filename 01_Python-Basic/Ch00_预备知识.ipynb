{
 "cells": [
  {
   "cell_type": "markdown",
   "id": "a94ae763-e6db-43d9-90be-ff0856c4c81d",
   "metadata": {},
   "source": [
    "# 预备知识"
   ]
  },
  {
   "cell_type": "markdown",
   "id": "e40fbd43-1454-4a77-914e-0a6a59c2c46d",
   "metadata": {},
   "source": [
    "## Markdown\n",
    "\n",
    "- [Markdown基本语法](https://www.markdown.xyz/basic-syntax/)\n",
    "- [Markdown扩展语法](https://www.markdown.xyz/extended-syntax/)\n",
    "- [Markdown语法速查表](https://www.markdown.xyz/cheat-sheet/)"
   ]
  },
  {
   "cell_type": "markdown",
   "id": "82554565-ad81-4ca7-b54f-0a9be15fac2b",
   "metadata": {},
   "source": [
    "## Linux 常用命令\n",
    "\n",
    "- [50个最常用的Unix/Linux命令](https://gywbd.github.io/posts/2014/8/50-linux-commands.html)\n",
    "- [Linux 常用命令学习](https://www.runoob.com/w3cnote/linux-common-command-2.html)\n",
    "- [45 个常用Linux 命令，让你轻松玩转Linux！](https://juejin.cn/post/6844903930166509581)\n",
    "- [Linux常用命令大全（2021版）](https://zhuanlan.zhihu.com/p/163691348)"
   ]
  },
  {
   "cell_type": "markdown",
   "id": "845ea619-94a4-40db-acbb-116211e9b94a",
   "metadata": {},
   "source": [
    "## Shell 命令"
   ]
  },
  {
   "cell_type": "code",
   "execution_count": 1,
   "id": "9eff242e-90a1-4261-9e72-72bc6efc41be",
   "metadata": {},
   "outputs": [
    {
     "name": "stdout",
     "output_type": "stream",
     "text": [
      "hello world\n"
     ]
    }
   ],
   "source": [
    "!echo \"hello world\""
   ]
  },
  {
   "cell_type": "code",
   "execution_count": 2,
   "id": "3afb97b2-02bc-4a4d-9998-c302bec68852",
   "metadata": {},
   "outputs": [
    {
     "name": "stdout",
     "output_type": "stream",
     "text": [
      "/home/kevin/Studio/Github/data-science-learning-notes/01_Python-Basic\n"
     ]
    }
   ],
   "source": [
    "!pwd\n",
    "# !ls                           # ls = list working directory contents\n",
    "# !cd projects/                 # cd = change directory\n",
    "# !mkdir myproject              # mkdir = make new directory\n",
    "# !mv ../myproject.txt ./       # mv = move file"
   ]
  },
  {
   "cell_type": "code",
   "execution_count": 3,
   "id": "2d857644-2b34-41ca-8276-05affcd44ea9",
   "metadata": {},
   "outputs": [
    {
     "name": "stdout",
     "output_type": "stream",
     "text": [
      "hello from Python\n"
     ]
    }
   ],
   "source": [
    "message = \"hello from Python\"\n",
    "!echo {message}"
   ]
  },
  {
   "cell_type": "markdown",
   "id": "8915a143-4ebc-4973-88fe-4c1ba2cfff86",
   "metadata": {},
   "source": [
    "## Jupyter\n",
    "\n",
    "- [nbviewer](https://nbviewer.org/)\n",
    "- [28 Jupyter Notebook Tips, Tricks, and Shortcuts](https://www.dataquest.io/blog/jupyter-notebook-tips-tricks-shortcuts/)"
   ]
  },
  {
   "cell_type": "markdown",
   "id": "64d223e6-8187-4ff2-95c2-c764781ba577",
   "metadata": {},
   "source": [
    "## 魔法命令\n",
    "\n",
    "IPython提供了许多魔法命令，使得在IPython环境中的操作更加得心应手。魔法命令共分为两类：\n",
    "- 行魔法命令（line magic）：前缀为`%`，且全部指令（包含主要参数）不可以换行。行命令只对命令所在的行有效。\n",
    "- 单元格命令（cell magics）：前缀为`%%`，整个单元格都是魔法命令，单元格第一行必须是`%%`，对整个单元的代码进行处理。\n",
    "\n",
    "> 参考阅读： [IPython Magic Commands](https://jakevdp.github.io/PythonDataScienceHandbook/01.03-magic-commands.html)"
   ]
  },
  {
   "cell_type": "markdown",
   "id": "ebfa7803-31b3-4fb6-af72-e3aacc208a7f",
   "metadata": {},
   "source": [
    "### 魔法命令介绍  \n",
    "- `%lsmagic`：列出所有magics命令  \n",
    "- `%quickref`：输出所有魔法指令的简单版帮助文档  \n",
    "- `%Magics_Name?`：输出某个魔法命令详细帮助文档"
   ]
  },
  {
   "cell_type": "markdown",
   "id": "519e82ad-999c-4524-b9f2-ce11abef4aee",
   "metadata": {},
   "source": [
    "### Line magics：Line魔法指令  \n",
    "- `%alias`：设置指令的别名  \n",
    "- `%conda`：cell中安装package  \n",
    "- `%debug`：调式程序  \n",
    "- `%dhist`：输出历史访问目录  \n",
    "- `%env`：列出全部环境变量  \n",
    "- `%history`：列出历史输入的指令  \n",
    "- `%ls`：  查看目录文件列表  \n",
    "- `%magic`：输出所有魔法指令帮助文档  \n",
    "- `%matplotlib inline`：效果等价于plt.show()  \n",
    "- `%notebook`：导出当前notebook所有历史输入到一个文件中  \n",
    "- `%pdb`：调试程序  \n",
    "- `%pip`：在cell中使用pip指令  \n",
    "- `%pwd`：查看当前工作目录，输出当前路径\n",
    "- `%pycat`：预览文件，类似linux中cat  \n",
    "- `%reset`：清除全部变量  \n",
    "- `%run`：执行脚本  \n",
    "- `%time`：执行时间  \n",
    "- `%timeit`：测试单行语句的执行时间  \n",
    "- `%who`：查看所有变量名称  \n",
    "- `%whos`：显示所有的全局变量名称、类型、信息等  "
   ]
  },
  {
   "cell_type": "markdown",
   "id": "c5ca49ab-a131-4b29-bbed-374b6032e8c1",
   "metadata": {},
   "source": [
    "### Cell magics：Cell魔法指令  \n",
    "- `%%latex`：写Latex公式  \n",
    "- `%%script `：写bash、perl、javascript、js 等命令  \n",
    "- `%%timeit`：测试整个单元中代码的执行时间\n",
    "- `%%writefile`：将当前cell中内容写入文件中  \n",
    "   写bash程序  \n",
    "   写perl程序  \n",
    "   写python2程序 "
   ]
  },
  {
   "cell_type": "markdown",
   "id": "d8709ba4-edff-4871-8f87-9c441cb3a028",
   "metadata": {},
   "source": [
    "### 数据分析中常用的魔法命令\n",
    "- `%load <file_name>` : Load an external file.\n",
    "- `%matplotlib inline` : 将matplotlib画出的图直接显示在Notebook之中\n",
    "- `%matplotlib inline` : Displaying matlpotlib graphs in jupyter notebook\n",
    "- `%pinfo <variable>` : Get detailed information about the variable.\n",
    "- `%%prun` : 调用profile模块，对单元的代码进行性能剖析\n",
    "- `%run <file name>` : \n",
    "- `%timeit` : 测试单行语句的执行时间\n",
    "- `%%timeit` : 测试整个单元中代码的执行时间\n",
    "- `%who <DType>` : 显示对应数据类型的变量名称\n",
    "- `%who_ls <DType>` : Reduces the output LIST to interactive variables of type \"DType\"\n",
    "- `%who_ls` : Outputs a LIST of all interactive variables in your environment\n",
    "- `%whos` : 显示当前所有变量，含名称及详情\n",
    "- `%%writefile` : 写入文件"
   ]
  },
  {
   "cell_type": "code",
   "execution_count": 4,
   "id": "8a779d25-9ed7-4d26-ae18-e67a841c5e12",
   "metadata": {},
   "outputs": [
    {
     "data": {
      "text/plain": [
       "\u001b[0;31mDocstring:\u001b[0m\n",
       "Return a sorted list of all interactive variables.\n",
       "\n",
       "If arguments are given, only variables of types matching these\n",
       "arguments are returned.\n",
       "\n",
       "Examples\n",
       "--------\n",
       "\n",
       "Define two variables and list them with who_ls::\n",
       "\n",
       "  In [1]: alpha = 123\n",
       "\n",
       "  In [2]: beta = 'test'\n",
       "\n",
       "  In [3]: %who_ls\n",
       "  Out[3]: ['alpha', 'beta']\n",
       "\n",
       "  In [4]: %who_ls int\n",
       "  Out[4]: ['alpha']\n",
       "\n",
       "  In [5]: %who_ls str\n",
       "  Out[5]: ['beta']\n",
       "\u001b[0;31mFile:\u001b[0m      ~/anaconda3/lib/python3.7/site-packages/IPython/core/magics/namespace.py\n"
      ]
     },
     "metadata": {},
     "output_type": "display_data"
    }
   ],
   "source": [
    "%who_ls?"
   ]
  },
  {
   "cell_type": "code",
   "execution_count": 5,
   "id": "1dcbbec2-07c1-45fc-a244-2b4f56221899",
   "metadata": {},
   "outputs": [
    {
     "data": {
      "text/plain": [
       "'http://dpaste.com/5M8RLMP8S'"
      ]
     },
     "execution_count": 5,
     "metadata": {},
     "output_type": "execute_result"
    }
   ],
   "source": [
    "# 以链接的形式分享代码，生成的链接有效期只有7天。\n",
    "%pastebin 1-4"
   ]
  },
  {
   "cell_type": "code",
   "execution_count": 6,
   "id": "aedf8219-510f-4f35-8a29-833479630a14",
   "metadata": {},
   "outputs": [
    {
     "name": "stdout",
     "output_type": "stream",
     "text": [
      "943 ns ± 17.1 ns per loop (mean ± std. dev. of 7 runs, 1000000 loops each)\n"
     ]
    }
   ],
   "source": [
    "import numpy as np\n",
    "\n",
    "%timeit np.sin(24)"
   ]
  },
  {
   "cell_type": "code",
   "execution_count": 7,
   "id": "e39c8585-b6c9-4788-a978-20aac487610c",
   "metadata": {},
   "outputs": [
    {
     "name": "stdout",
     "output_type": "stream",
     "text": [
      "!echo \"hello world\"\n",
      "!pwd\n",
      "# !ls                             # ls = list working directory contents\n",
      "# !cd projects/                   # cd = change directory\n",
      "# !mkdir myproject          # mkdir = make new directory\n",
      "# !mv ../myproject.txt ./  # mv = move file. Here we're moving the\n",
      "message = \"hello from Python\"\n",
      "!echo {message}\n",
      "%who_ls?\n",
      "# 以链接的形式分享代码，生成的链接有效期只有7天。\n",
      "%pastebin 1-4\n",
      "import numpy as np\n",
      "\n",
      "%timeit np.sin(24)\n",
      "# 显示cell运行时长\n",
      "%history\n"
     ]
    }
   ],
   "source": [
    "# 显示cell运行时长\n",
    "%history"
   ]
  },
  {
   "cell_type": "code",
   "execution_count": 8,
   "id": "408c9c35-adeb-466c-8e0a-e6a3c81338a5",
   "metadata": {},
   "outputs": [
    {
     "name": "stdout",
     "output_type": "stream",
     "text": [
      "Variable   Type      Data/Info\n",
      "------------------------------\n",
      "message    str       hello from Python\n",
      "np         module    <module 'numpy' from '/ho<...>kages/numpy/__init__.py'>\n"
     ]
    }
   ],
   "source": [
    "%whos\n",
    "# dir() will give you the list of in scope variables:\n",
    "# globals() will give you a dictionary of global variables\n",
    "# locals() will give you a dictionary of local variables"
   ]
  },
  {
   "cell_type": "markdown",
   "id": "53747289-a69e-4455-bcef-1c68afb861e8",
   "metadata": {},
   "source": [
    "$P(A \\mid B) = \\frac{P(B \\mid A)P(A)}{P(B)}$"
   ]
  },
  {
   "cell_type": "markdown",
   "id": "618ddebd-f6de-4f4c-9482-36b3e33e3fef",
   "metadata": {},
   "source": [
    "### 查看帮助"
   ]
  },
  {
   "cell_type": "code",
   "execution_count": 9,
   "id": "ae5fc2d6-5302-430e-86ab-ff1ea657fac1",
   "metadata": {},
   "outputs": [
    {
     "data": {
      "text/plain": [
       "\u001b[0;31mDocstring:\u001b[0m\n",
       "Save a set of lines or a macro to a given filename.\n",
       "\n",
       "Usage:\n",
       "  %save [options] filename n1-n2 n3-n4 ... n5 .. n6 ...\n",
       "\n",
       "Options:\n",
       "\n",
       "  -r: use 'raw' input.  By default, the 'processed' history is used,\n",
       "  so that magics are loaded in their transformed version to valid\n",
       "  Python.  If this option is given, the raw input as typed as the\n",
       "  command line is used instead.\n",
       "  \n",
       "  -f: force overwrite.  If file exists, %save will prompt for overwrite\n",
       "  unless -f is given.\n",
       "\n",
       "  -a: append to the file instead of overwriting it.\n",
       "\n",
       "This function uses the same syntax as %history for input ranges,\n",
       "then saves the lines to the filename you specify.\n",
       "\n",
       "It adds a '.py' extension to the file if you don't do so yourself, and\n",
       "it asks for confirmation before overwriting existing files.\n",
       "\n",
       "If `-r` option is used, the default extension is `.ipy`.\n",
       "\u001b[0;31mFile:\u001b[0m      ~/anaconda3/lib/python3.7/site-packages/IPython/core/magics/code.py\n"
      ]
     },
     "metadata": {},
     "output_type": "display_data"
    }
   ],
   "source": [
    "#查看具体命令的说明 在命令后添加?\n",
    "%save?"
   ]
  },
  {
   "cell_type": "markdown",
   "id": "810971ac-2c76-4fa9-bb86-393282e60d59",
   "metadata": {},
   "source": [
    "## 参数设置"
   ]
  },
  {
   "cell_type": "code",
   "execution_count": 10,
   "id": "d54c5de7-b30b-4670-bd5e-802960401d2a",
   "metadata": {},
   "outputs": [
    {
     "data": {
      "text/plain": [
       "7"
      ]
     },
     "metadata": {},
     "output_type": "display_data"
    },
    {
     "data": {
      "text/plain": [
       "int"
      ]
     },
     "metadata": {},
     "output_type": "display_data"
    }
   ],
   "source": [
    "# one cell, multiple outputs\n",
    "# from IPython.core.interactiveshell import InteractiveShell\n",
    "# InteractiveShell.ast_node_interactivity = \"all\"\n",
    "\n",
    "a = 3\n",
    "b = 7\n",
    "from IPython.display import display\n",
    "display(b)\n",
    "display(type(a))"
   ]
  },
  {
   "cell_type": "code",
   "execution_count": null,
   "id": "d06b7b1d-ff38-4ddf-818b-a207fc20df06",
   "metadata": {},
   "outputs": [],
   "source": []
  }
 ],
 "metadata": {
  "kernelspec": {
   "display_name": "Python 3 (ipykernel)",
   "language": "python",
   "name": "python3"
  },
  "language_info": {
   "codemirror_mode": {
    "name": "ipython",
    "version": 3
   },
   "file_extension": ".py",
   "mimetype": "text/x-python",
   "name": "python",
   "nbconvert_exporter": "python",
   "pygments_lexer": "ipython3",
   "version": "3.9.7"
  },
  "toc-autonumbering": true
 },
 "nbformat": 4,
 "nbformat_minor": 5
}
