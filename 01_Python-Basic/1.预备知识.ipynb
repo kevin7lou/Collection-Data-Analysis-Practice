{
 "cells": [
  {
   "cell_type": "markdown",
   "id": "a94ae763-e6db-43d9-90be-ff0856c4c81d",
   "metadata": {},
   "source": [
    "# 预备知识"
   ]
  },
  {
   "cell_type": "markdown",
   "id": "e40fbd43-1454-4a77-914e-0a6a59c2c46d",
   "metadata": {},
   "source": [
    "## Markdown\n",
    "\n",
    "- [Markdown基本语法](https://www.markdown.xyz/basic-syntax/)\n",
    "- [Markdown扩展语法](https://www.markdown.xyz/extended-syntax/)\n",
    "- [Markdown语法速查表](https://www.markdown.xyz/cheat-sheet/)"
   ]
  },
  {
   "cell_type": "markdown",
   "id": "d01796f8-19e6-4ea7-9e99-79eef8bd8ec2",
   "metadata": {},
   "source": [
    "## Linux 常用命令\n",
    "\n",
    "- [Linux 常用命令学习](https://www.runoob.com/w3cnote/linux-common-command-2.html)\n",
    "- [45 个常用Linux 命令，让你轻松玩转Linux！](https://juejin.cn/post/6844903930166509581)\n",
    "- [Linux常用命令大全（2021版）](https://zhuanlan.zhihu.com/p/163691348)"
   ]
  },
  {
   "cell_type": "markdown",
   "id": "82554565-ad81-4ca7-b54f-0a9be15fac2b",
   "metadata": {},
   "source": [
    "## Jupyter\n",
    "\n",
    "- [nbviewer](https://nbviewer.org/)\n",
    "- [28 Jupyter Notebook Tips, Tricks, and Shortcuts](https://www.dataquest.io/blog/jupyter-notebook-tips-tricks-shortcuts/)"
   ]
  },
  {
   "cell_type": "markdown",
   "id": "64d223e6-8187-4ff2-95c2-c764781ba577",
   "metadata": {},
   "source": [
    "## 魔法命令\n",
    "\n",
    "IPython提供了许多魔法命令，使得在IPython环境中的操作更加得心应手。\n",
    "\n",
    "魔法命令都以`%`或者`%%`开头。以`%`开头的成为**行命令(line magics)**，`%%`开头的称为**单元命令(cell magics)**。行命令只对命令所在的行有效，而单元命令则必须出现在单元的第一行，对整个单元的代码进行处理。\n",
    "\n",
    "> 参考阅读： [IPython Magic Commands](https://jakevdp.github.io/PythonDataScienceHandbook/01.03-magic-commands.html)"
   ]
  },
  {
   "cell_type": "markdown",
   "id": "618ddebd-f6de-4f4c-9482-36b3e33e3fef",
   "metadata": {},
   "source": [
    "### 查看与帮助"
   ]
  },
  {
   "cell_type": "code",
   "execution_count": 2,
   "id": "40651194-f950-44a5-bfd8-34588803ae16",
   "metadata": {},
   "outputs": [
    {
     "data": {
      "application/json": {
       "cell": {
        "!": "OSMagics",
        "HTML": "Other",
        "SVG": "Other",
        "bash": "Other",
        "capture": "ExecutionMagics",
        "debug": "ExecutionMagics",
        "file": "Other",
        "html": "DisplayMagics",
        "javascript": "DisplayMagics",
        "js": "DisplayMagics",
        "latex": "DisplayMagics",
        "markdown": "DisplayMagics",
        "perl": "Other",
        "prun": "ExecutionMagics",
        "pypy": "Other",
        "python": "Other",
        "python2": "Other",
        "python3": "Other",
        "ruby": "Other",
        "script": "ScriptMagics",
        "sh": "Other",
        "svg": "DisplayMagics",
        "sx": "OSMagics",
        "system": "OSMagics",
        "time": "ExecutionMagics",
        "timeit": "ExecutionMagics",
        "writefile": "OSMagics"
       },
       "line": {
        "alias": "OSMagics",
        "alias_magic": "BasicMagics",
        "autoawait": "AsyncMagics",
        "autocall": "AutoMagics",
        "automagic": "AutoMagics",
        "autosave": "KernelMagics",
        "bookmark": "OSMagics",
        "cat": "Other",
        "cd": "OSMagics",
        "clear": "KernelMagics",
        "colors": "BasicMagics",
        "conda": "PackagingMagics",
        "config": "ConfigMagics",
        "connect_info": "KernelMagics",
        "cp": "Other",
        "debug": "ExecutionMagics",
        "dhist": "OSMagics",
        "dirs": "OSMagics",
        "doctest_mode": "BasicMagics",
        "ed": "Other",
        "edit": "KernelMagics",
        "env": "OSMagics",
        "gui": "BasicMagics",
        "hist": "Other",
        "history": "HistoryMagics",
        "killbgscripts": "ScriptMagics",
        "ldir": "Other",
        "less": "KernelMagics",
        "lf": "Other",
        "lk": "Other",
        "ll": "Other",
        "load": "CodeMagics",
        "load_ext": "ExtensionMagics",
        "loadpy": "CodeMagics",
        "logoff": "LoggingMagics",
        "logon": "LoggingMagics",
        "logstart": "LoggingMagics",
        "logstate": "LoggingMagics",
        "logstop": "LoggingMagics",
        "ls": "Other",
        "lsmagic": "BasicMagics",
        "lx": "Other",
        "macro": "ExecutionMagics",
        "magic": "BasicMagics",
        "man": "KernelMagics",
        "matplotlib": "PylabMagics",
        "mkdir": "Other",
        "more": "KernelMagics",
        "mv": "Other",
        "notebook": "BasicMagics",
        "page": "BasicMagics",
        "pastebin": "CodeMagics",
        "pdb": "ExecutionMagics",
        "pdef": "NamespaceMagics",
        "pdoc": "NamespaceMagics",
        "pfile": "NamespaceMagics",
        "pinfo": "NamespaceMagics",
        "pinfo2": "NamespaceMagics",
        "pip": "PackagingMagics",
        "popd": "OSMagics",
        "pprint": "BasicMagics",
        "precision": "BasicMagics",
        "prun": "ExecutionMagics",
        "psearch": "NamespaceMagics",
        "psource": "NamespaceMagics",
        "pushd": "OSMagics",
        "pwd": "OSMagics",
        "pycat": "OSMagics",
        "pylab": "PylabMagics",
        "qtconsole": "KernelMagics",
        "quickref": "BasicMagics",
        "recall": "HistoryMagics",
        "rehashx": "OSMagics",
        "reload_ext": "ExtensionMagics",
        "rep": "Other",
        "rerun": "HistoryMagics",
        "reset": "NamespaceMagics",
        "reset_selective": "NamespaceMagics",
        "rm": "Other",
        "rmdir": "Other",
        "run": "ExecutionMagics",
        "save": "CodeMagics",
        "sc": "OSMagics",
        "set_env": "OSMagics",
        "store": "StoreMagics",
        "sx": "OSMagics",
        "system": "OSMagics",
        "tb": "ExecutionMagics",
        "time": "ExecutionMagics",
        "timeit": "ExecutionMagics",
        "unalias": "OSMagics",
        "unload_ext": "ExtensionMagics",
        "who": "NamespaceMagics",
        "who_ls": "NamespaceMagics",
        "whos": "NamespaceMagics",
        "xdel": "NamespaceMagics",
        "xmode": "BasicMagics"
       }
      },
      "text/plain": [
       "Available line magics:\n",
       "%alias  %alias_magic  %autoawait  %autocall  %automagic  %autosave  %bookmark  %cat  %cd  %clear  %colors  %conda  %config  %connect_info  %cp  %debug  %dhist  %dirs  %doctest_mode  %ed  %edit  %env  %gui  %hist  %history  %killbgscripts  %ldir  %less  %lf  %lk  %ll  %load  %load_ext  %loadpy  %logoff  %logon  %logstart  %logstate  %logstop  %ls  %lsmagic  %lx  %macro  %magic  %man  %matplotlib  %mkdir  %more  %mv  %notebook  %page  %pastebin  %pdb  %pdef  %pdoc  %pfile  %pinfo  %pinfo2  %pip  %popd  %pprint  %precision  %prun  %psearch  %psource  %pushd  %pwd  %pycat  %pylab  %qtconsole  %quickref  %recall  %rehashx  %reload_ext  %rep  %rerun  %reset  %reset_selective  %rm  %rmdir  %run  %save  %sc  %set_env  %store  %sx  %system  %tb  %time  %timeit  %unalias  %unload_ext  %who  %who_ls  %whos  %xdel  %xmode\n",
       "\n",
       "Available cell magics:\n",
       "%%!  %%HTML  %%SVG  %%bash  %%capture  %%debug  %%file  %%html  %%javascript  %%js  %%latex  %%markdown  %%perl  %%prun  %%pypy  %%python  %%python2  %%python3  %%ruby  %%script  %%sh  %%svg  %%sx  %%system  %%time  %%timeit  %%writefile\n",
       "\n",
       "Automagic is ON, % prefix IS NOT needed for line magics."
      ]
     },
     "execution_count": 2,
     "metadata": {},
     "output_type": "execute_result"
    }
   ],
   "source": [
    "%lsmagic #查看所有的魔法命令"
   ]
  },
  {
   "cell_type": "markdown",
   "id": "e0e74a47-8278-4d7e-9cfd-b4c1ecf261f0",
   "metadata": {},
   "source": [
    "`%magic` #查看各个命令的说明"
   ]
  },
  {
   "cell_type": "code",
   "execution_count": 4,
   "id": "ae5fc2d6-5302-430e-86ab-ff1ea657fac1",
   "metadata": {},
   "outputs": [
    {
     "data": {
      "text/plain": [
       "\u001b[0;31mDocstring:\u001b[0m\n",
       "Save a set of lines or a macro to a given filename.\n",
       "\n",
       "Usage:\n",
       "  %save [options] filename n1-n2 n3-n4 ... n5 .. n6 ...\n",
       "\n",
       "Options:\n",
       "\n",
       "  -r: use 'raw' input.  By default, the 'processed' history is used,\n",
       "  so that magics are loaded in their transformed version to valid\n",
       "  Python.  If this option is given, the raw input as typed as the\n",
       "  command line is used instead.\n",
       "  \n",
       "  -f: force overwrite.  If file exists, %save will prompt for overwrite\n",
       "  unless -f is given.\n",
       "\n",
       "  -a: append to the file instead of overwriting it.\n",
       "\n",
       "This function uses the same syntax as %history for input ranges,\n",
       "then saves the lines to the filename you specify.\n",
       "\n",
       "It adds a '.py' extension to the file if you don't do so yourself, and\n",
       "it asks for confirmation before overwriting existing files.\n",
       "\n",
       "If `-r` option is used, the default extension is `.ipy`.\n",
       "\u001b[0;31mFile:\u001b[0m      ~/anaconda3/lib/python3.7/site-packages/IPython/core/magics/code.py\n"
      ]
     },
     "metadata": {},
     "output_type": "display_data"
    }
   ],
   "source": [
    "#查看具体命令的说明 在命令后添加?\n",
    "%save?"
   ]
  },
  {
   "cell_type": "markdown",
   "id": "7a87a571-d12c-4c36-be6d-56e6066b853d",
   "metadata": {},
   "source": [
    "### 数据分析中常用的魔法命令"
   ]
  },
  {
   "cell_type": "markdown",
   "id": "09527a95-c236-46fa-9c00-43c5be4dbc56",
   "metadata": {},
   "source": [
    "- `%whos` : 显示当前所有变量，含名称及详情\n",
    "- `%who <DType>` : 显示对应数据类型的变量名称\n",
    "- `%who_ls` : Outputs a LIST of all interactive variables in your environment\n",
    "- `%who_ls <DType>` : Reduces the output LIST to interactive variables of type \"DType\"\n",
    "- `%pinfo <variable>` : Get detailed information about the variable.\n",
    "- `%env` : Get and set environmental variables.\n",
    "- `%matplotlib inline` : Displaying matlpotlib graphs in jupyter notebook\n",
    "- `%load <file_name>` : Load an external file.\n",
    "- `%alias?` : 常用的命令总结\n",
    "- `%matplotlib inline` : 将matplotlib画出的图直接显示在Notebook之中\n",
    "- `%timeit` : 测试单行语句的执行时间\n",
    "- `%%timeit` : 测试整个单元中代码的执行时间\n",
    "- `%%prun` : 调用profile模块，对单元的代码进行性能剖析\n",
    "- `%%writefile` : 写入文件\n",
    "- `%run <file name>` : "
   ]
  },
  {
   "cell_type": "code",
   "execution_count": null,
   "id": "35349172-dc91-4230-86de-e0281a88ab2f",
   "metadata": {},
   "outputs": [],
   "source": []
  }
 ],
 "metadata": {
  "kernelspec": {
   "display_name": "Python 3",
   "language": "python",
   "name": "python3"
  },
  "language_info": {
   "codemirror_mode": {
    "name": "ipython",
    "version": 3
   },
   "file_extension": ".py",
   "mimetype": "text/x-python",
   "name": "python",
   "nbconvert_exporter": "python",
   "pygments_lexer": "ipython3",
   "version": "3.7.2"
  },
  "toc-autonumbering": true
 },
 "nbformat": 4,
 "nbformat_minor": 5
}
